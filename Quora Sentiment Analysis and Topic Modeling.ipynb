{
 "cells": [
  {
   "cell_type": "markdown",
   "metadata": {},
   "source": [
    "# Introduction"
   ]
  },
  {
   "cell_type": "markdown",
   "metadata": {},
   "source": [
    "The purpose of this project is to look at the sentiment of Quora questions, investigate certain interesting words and the\n",
    "sentiment associated with them and then analyze Quora questions using Topic Modeling; try to identify topics in Quora questions\n",
    "(as well as Quora questions that have a strong negative sentiment). It is interesting to identify what kind of things people tend to look at at Quora. Afterwards, some of the \"most important\" keywords in the Quora quesitons will be identified. "
   ]
  },
  {
   "cell_type": "markdown",
   "metadata": {},
   "source": [
    "# Sentiment Analysis"
   ]
  },
  {
   "cell_type": "code",
   "execution_count": 3,
   "metadata": {
    "collapsed": true
   },
   "outputs": [],
   "source": [
    "import pandas as pd\n",
    "import numpy as np\n",
    "import seaborn as sns\n",
    "import scipy.stats as stats\n",
    "import matplotlib.pyplot as plt\n",
    "\n",
    "%matplotlib inline"
   ]
  },
  {
   "cell_type": "code",
   "execution_count": 4,
   "metadata": {},
   "outputs": [
    {
     "data": {
      "text/html": [
       "<div>\n",
       "<style>\n",
       "    .dataframe thead tr:only-child th {\n",
       "        text-align: right;\n",
       "    }\n",
       "\n",
       "    .dataframe thead th {\n",
       "        text-align: left;\n",
       "    }\n",
       "\n",
       "    .dataframe tbody tr th {\n",
       "        vertical-align: top;\n",
       "    }\n",
       "</style>\n",
       "<table border=\"1\" class=\"dataframe\">\n",
       "  <thead>\n",
       "    <tr style=\"text-align: right;\">\n",
       "      <th></th>\n",
       "      <th>question1</th>\n",
       "    </tr>\n",
       "  </thead>\n",
       "  <tbody>\n",
       "    <tr>\n",
       "      <th>0</th>\n",
       "      <td>What is the step by step guide to invest in sh...</td>\n",
       "    </tr>\n",
       "    <tr>\n",
       "      <th>1</th>\n",
       "      <td>What is the story of Kohinoor (Koh-i-Noor) Dia...</td>\n",
       "    </tr>\n",
       "    <tr>\n",
       "      <th>2</th>\n",
       "      <td>How can I increase the speed of my internet co...</td>\n",
       "    </tr>\n",
       "    <tr>\n",
       "      <th>3</th>\n",
       "      <td>Why am I mentally very lonely? How can I solve...</td>\n",
       "    </tr>\n",
       "    <tr>\n",
       "      <th>4</th>\n",
       "      <td>Which one dissolve in water quikly sugar, salt...</td>\n",
       "    </tr>\n",
       "  </tbody>\n",
       "</table>\n",
       "</div>"
      ],
      "text/plain": [
       "                                           question1\n",
       "0  What is the step by step guide to invest in sh...\n",
       "1  What is the story of Kohinoor (Koh-i-Noor) Dia...\n",
       "2  How can I increase the speed of my internet co...\n",
       "3  Why am I mentally very lonely? How can I solve...\n",
       "4  Which one dissolve in water quikly sugar, salt..."
      ]
     },
     "execution_count": 4,
     "metadata": {},
     "output_type": "execute_result"
    }
   ],
   "source": [
    "# Here we are importing the questions dataset and deleting irrelevant columns\n",
    "\n",
    "questions = pd.read_csv('questions.csv',encoding = \"ISO-8859-1\")\n",
    "del questions['id']\n",
    "del questions['qid1']\n",
    "del questions['qid2']\n",
    "del questions['is_duplicate']\n",
    "del questions['question2']\n",
    "questions.head(5)"
   ]
  },
  {
   "cell_type": "code",
   "execution_count": 5,
   "metadata": {},
   "outputs": [
    {
     "data": {
      "text/html": [
       "<div>\n",
       "<style>\n",
       "    .dataframe thead tr:only-child th {\n",
       "        text-align: right;\n",
       "    }\n",
       "\n",
       "    .dataframe thead th {\n",
       "        text-align: left;\n",
       "    }\n",
       "\n",
       "    .dataframe tbody tr th {\n",
       "        vertical-align: top;\n",
       "    }\n",
       "</style>\n",
       "<table border=\"1\" class=\"dataframe\">\n",
       "  <thead>\n",
       "    <tr style=\"text-align: right;\">\n",
       "      <th></th>\n",
       "      <th>question1</th>\n",
       "      <th>sentiment_score</th>\n",
       "    </tr>\n",
       "  </thead>\n",
       "  <tbody>\n",
       "    <tr>\n",
       "      <th>0</th>\n",
       "      <td>What is the step by step guide to invest in sh...</td>\n",
       "      <td>(0.0, 0.0)</td>\n",
       "    </tr>\n",
       "    <tr>\n",
       "      <th>1</th>\n",
       "      <td>What is the story of Kohinoor (Koh-i-Noor) Dia...</td>\n",
       "      <td>(0.0, 0.0)</td>\n",
       "    </tr>\n",
       "    <tr>\n",
       "      <th>2</th>\n",
       "      <td>How can I increase the speed of my internet co...</td>\n",
       "      <td>(0.0, 0.0)</td>\n",
       "    </tr>\n",
       "    <tr>\n",
       "      <th>3</th>\n",
       "      <td>Why am I mentally very lonely? How can I solve...</td>\n",
       "      <td>(-0.12999999999999998, 0.9099999999999999)</td>\n",
       "    </tr>\n",
       "    <tr>\n",
       "      <th>4</th>\n",
       "      <td>Which one dissolve in water quikly sugar, salt...</td>\n",
       "      <td>(0.0, 0.0)</td>\n",
       "    </tr>\n",
       "  </tbody>\n",
       "</table>\n",
       "</div>"
      ],
      "text/plain": [
       "                                           question1  \\\n",
       "0  What is the step by step guide to invest in sh...   \n",
       "1  What is the story of Kohinoor (Koh-i-Noor) Dia...   \n",
       "2  How can I increase the speed of my internet co...   \n",
       "3  Why am I mentally very lonely? How can I solve...   \n",
       "4  Which one dissolve in water quikly sugar, salt...   \n",
       "\n",
       "                              sentiment_score  \n",
       "0                                  (0.0, 0.0)  \n",
       "1                                  (0.0, 0.0)  \n",
       "2                                  (0.0, 0.0)  \n",
       "3  (-0.12999999999999998, 0.9099999999999999)  \n",
       "4                                  (0.0, 0.0)  "
      ]
     },
     "execution_count": 5,
     "metadata": {},
     "output_type": "execute_result"
    }
   ],
   "source": [
    "# Sentiment Scores computation \n",
    "\n",
    "from textblob import TextBlob\n",
    "\n",
    "def sentiment_calc(text):\n",
    "    try:\n",
    "        return TextBlob(text).sentiment\n",
    "    except:\n",
    "        return None\n",
    "\n",
    "questions['sentiment_score'] = questions['question1'].apply(sentiment_calc)\n",
    "questions.head(5)"
   ]
  },
  {
   "cell_type": "code",
   "execution_count": 6,
   "metadata": {
    "collapsed": true
   },
   "outputs": [],
   "source": [
    "# convert to string\n",
    "questions = questions.astype(str)"
   ]
  },
  {
   "cell_type": "code",
   "execution_count": 7,
   "metadata": {},
   "outputs": [
    {
     "data": {
      "text/html": [
       "<div>\n",
       "<style>\n",
       "    .dataframe thead tr:only-child th {\n",
       "        text-align: right;\n",
       "    }\n",
       "\n",
       "    .dataframe thead th {\n",
       "        text-align: left;\n",
       "    }\n",
       "\n",
       "    .dataframe tbody tr th {\n",
       "        vertical-align: top;\n",
       "    }\n",
       "</style>\n",
       "<table border=\"1\" class=\"dataframe\">\n",
       "  <thead>\n",
       "    <tr style=\"text-align: right;\">\n",
       "      <th></th>\n",
       "      <th>sentiment_score</th>\n",
       "    </tr>\n",
       "  </thead>\n",
       "  <tbody>\n",
       "    <tr>\n",
       "      <th>0</th>\n",
       "      <td>0.0</td>\n",
       "    </tr>\n",
       "    <tr>\n",
       "      <th>1</th>\n",
       "      <td>0.0</td>\n",
       "    </tr>\n",
       "    <tr>\n",
       "      <th>2</th>\n",
       "      <td>0.0</td>\n",
       "    </tr>\n",
       "    <tr>\n",
       "      <th>3</th>\n",
       "      <td>-0.12999999999999998</td>\n",
       "    </tr>\n",
       "    <tr>\n",
       "      <th>4</th>\n",
       "      <td>0.0</td>\n",
       "    </tr>\n",
       "  </tbody>\n",
       "</table>\n",
       "</div>"
      ],
      "text/plain": [
       "        sentiment_score\n",
       "0                   0.0\n",
       "1                   0.0\n",
       "2                   0.0\n",
       "3  -0.12999999999999998\n",
       "4                   0.0"
      ]
     },
     "execution_count": 7,
     "metadata": {},
     "output_type": "execute_result"
    }
   ],
   "source": [
    "# extract only the sentiment score from the column\n",
    "\n",
    "polarity = questions.sentiment_score.str.split('=').str[1].str.split(',').str[0].str.strip().to_frame()\n",
    "polarity.head(5)"
   ]
  },
  {
   "cell_type": "code",
   "execution_count": 8,
   "metadata": {},
   "outputs": [
    {
     "data": {
      "text/html": [
       "<div>\n",
       "<style>\n",
       "    .dataframe thead tr:only-child th {\n",
       "        text-align: right;\n",
       "    }\n",
       "\n",
       "    .dataframe thead th {\n",
       "        text-align: left;\n",
       "    }\n",
       "\n",
       "    .dataframe tbody tr th {\n",
       "        vertical-align: top;\n",
       "    }\n",
       "</style>\n",
       "<table border=\"1\" class=\"dataframe\">\n",
       "  <thead>\n",
       "    <tr style=\"text-align: right;\">\n",
       "      <th></th>\n",
       "      <th>polarity</th>\n",
       "    </tr>\n",
       "  </thead>\n",
       "  <tbody>\n",
       "    <tr>\n",
       "      <th>0</th>\n",
       "      <td>0.0</td>\n",
       "    </tr>\n",
       "  </tbody>\n",
       "</table>\n",
       "</div>"
      ],
      "text/plain": [
       "  polarity\n",
       "0      0.0"
      ]
     },
     "execution_count": 8,
     "metadata": {},
     "output_type": "execute_result"
    }
   ],
   "source": [
    "# rename column\n",
    "polarity = polarity.rename(columns= {'sentiment_score': 'polarity'})\n",
    "polarity.head(1)"
   ]
  },
  {
   "cell_type": "code",
   "execution_count": 9,
   "metadata": {},
   "outputs": [
    {
     "data": {
      "text/html": [
       "<div>\n",
       "<style>\n",
       "    .dataframe thead tr:only-child th {\n",
       "        text-align: right;\n",
       "    }\n",
       "\n",
       "    .dataframe thead th {\n",
       "        text-align: left;\n",
       "    }\n",
       "\n",
       "    .dataframe tbody tr th {\n",
       "        vertical-align: top;\n",
       "    }\n",
       "</style>\n",
       "<table border=\"1\" class=\"dataframe\">\n",
       "  <thead>\n",
       "    <tr style=\"text-align: right;\">\n",
       "      <th></th>\n",
       "      <th>question1</th>\n",
       "      <th>polarity</th>\n",
       "    </tr>\n",
       "  </thead>\n",
       "  <tbody>\n",
       "    <tr>\n",
       "      <th>0</th>\n",
       "      <td>What is the step by step guide to invest in sh...</td>\n",
       "      <td>0.0</td>\n",
       "    </tr>\n",
       "    <tr>\n",
       "      <th>1</th>\n",
       "      <td>What is the story of Kohinoor (Koh-i-Noor) Dia...</td>\n",
       "      <td>0.0</td>\n",
       "    </tr>\n",
       "    <tr>\n",
       "      <th>2</th>\n",
       "      <td>How can I increase the speed of my internet co...</td>\n",
       "      <td>0.0</td>\n",
       "    </tr>\n",
       "    <tr>\n",
       "      <th>3</th>\n",
       "      <td>Why am I mentally very lonely? How can I solve...</td>\n",
       "      <td>-0.12999999999999998</td>\n",
       "    </tr>\n",
       "    <tr>\n",
       "      <th>4</th>\n",
       "      <td>Which one dissolve in water quikly sugar, salt...</td>\n",
       "      <td>0.0</td>\n",
       "    </tr>\n",
       "  </tbody>\n",
       "</table>\n",
       "</div>"
      ],
      "text/plain": [
       "                                           question1              polarity\n",
       "0  What is the step by step guide to invest in sh...                   0.0\n",
       "1  What is the story of Kohinoor (Koh-i-Noor) Dia...                   0.0\n",
       "2  How can I increase the speed of my internet co...                   0.0\n",
       "3  Why am I mentally very lonely? How can I solve...  -0.12999999999999998\n",
       "4  Which one dissolve in water quikly sugar, salt...                   0.0"
      ]
     },
     "execution_count": 9,
     "metadata": {},
     "output_type": "execute_result"
    }
   ],
   "source": [
    "# concatenate the dataframes, delete extra column\n",
    "Question_polarity = pd.concat([questions,polarity], axis=1)\n",
    "del Question_polarity['sentiment_score']\n",
    "Question_polarity.head(5)"
   ]
  },
  {
   "cell_type": "code",
   "execution_count": 10,
   "metadata": {},
   "outputs": [
    {
     "data": {
      "text/plain": [
       "question1     object\n",
       "polarity     float64\n",
       "dtype: object"
      ]
     },
     "execution_count": 10,
     "metadata": {},
     "output_type": "execute_result"
    }
   ],
   "source": [
    "# Convert to numeric data types\n",
    "Question_polarity['polarity'] = Question_polarity['polarity'].apply(pd.to_numeric)\n",
    "Question_polarity.dtypes"
   ]
  },
  {
   "cell_type": "code",
   "execution_count": 11,
   "metadata": {},
   "outputs": [
    {
     "data": {
      "text/html": [
       "<div>\n",
       "<style>\n",
       "    .dataframe thead tr:only-child th {\n",
       "        text-align: right;\n",
       "    }\n",
       "\n",
       "    .dataframe thead th {\n",
       "        text-align: left;\n",
       "    }\n",
       "\n",
       "    .dataframe tbody tr th {\n",
       "        vertical-align: top;\n",
       "    }\n",
       "</style>\n",
       "<table border=\"1\" class=\"dataframe\">\n",
       "  <thead>\n",
       "    <tr style=\"text-align: right;\">\n",
       "      <th></th>\n",
       "      <th>question1</th>\n",
       "      <th>polarity</th>\n",
       "    </tr>\n",
       "  </thead>\n",
       "  <tbody>\n",
       "    <tr>\n",
       "      <th>48</th>\n",
       "      <td>What are some examples of products that can be...</td>\n",
       "      <td>-0.70</td>\n",
       "    </tr>\n",
       "    <tr>\n",
       "      <th>117</th>\n",
       "      <td>Did you find the ending of the novel \"1984\" de...</td>\n",
       "      <td>-0.60</td>\n",
       "    </tr>\n",
       "    <tr>\n",
       "      <th>136</th>\n",
       "      <td>Does it matter whether humans are selfish or e...</td>\n",
       "      <td>-0.75</td>\n",
       "    </tr>\n",
       "    <tr>\n",
       "      <th>151</th>\n",
       "      <td>How can I stop being afraid of working?</td>\n",
       "      <td>-0.60</td>\n",
       "    </tr>\n",
       "    <tr>\n",
       "      <th>203</th>\n",
       "      <td>Why do people hate Hillary Clinton?</td>\n",
       "      <td>-0.80</td>\n",
       "    </tr>\n",
       "  </tbody>\n",
       "</table>\n",
       "</div>"
      ],
      "text/plain": [
       "                                             question1  polarity\n",
       "48   What are some examples of products that can be...     -0.70\n",
       "117  Did you find the ending of the novel \"1984\" de...     -0.60\n",
       "136  Does it matter whether humans are selfish or e...     -0.75\n",
       "151            How can I stop being afraid of working?     -0.60\n",
       "203                Why do people hate Hillary Clinton?     -0.80"
      ]
     },
     "execution_count": 11,
     "metadata": {},
     "output_type": "execute_result"
    }
   ],
   "source": [
    "# Look at questions that only have a strong negative sentiment\n",
    "Negative_questions = Question_polarity.loc[Question_polarity['polarity']<-0.5]\n",
    "Negative_questions.head(5)"
   ]
  },
  {
   "cell_type": "code",
   "execution_count": 12,
   "metadata": {},
   "outputs": [
    {
     "data": {
      "text/html": [
       "<div>\n",
       "<style>\n",
       "    .dataframe thead tr:only-child th {\n",
       "        text-align: right;\n",
       "    }\n",
       "\n",
       "    .dataframe thead th {\n",
       "        text-align: left;\n",
       "    }\n",
       "\n",
       "    .dataframe tbody tr th {\n",
       "        vertical-align: top;\n",
       "    }\n",
       "</style>\n",
       "<table border=\"1\" class=\"dataframe\">\n",
       "  <thead>\n",
       "    <tr style=\"text-align: right;\">\n",
       "      <th></th>\n",
       "      <th>question1</th>\n",
       "      <th>polarity</th>\n",
       "    </tr>\n",
       "  </thead>\n",
       "  <tbody>\n",
       "    <tr>\n",
       "      <th>0</th>\n",
       "      <td>What is the step by step guide to invest in sh...</td>\n",
       "      <td>0.00</td>\n",
       "    </tr>\n",
       "    <tr>\n",
       "      <th>1</th>\n",
       "      <td>What is the story of Kohinoor (Koh-i-Noor) Dia...</td>\n",
       "      <td>0.00</td>\n",
       "    </tr>\n",
       "    <tr>\n",
       "      <th>2</th>\n",
       "      <td>How can I increase the speed of my internet co...</td>\n",
       "      <td>0.00</td>\n",
       "    </tr>\n",
       "    <tr>\n",
       "      <th>3</th>\n",
       "      <td>Why am I mentally very lonely? How can I solve...</td>\n",
       "      <td>-0.13</td>\n",
       "    </tr>\n",
       "    <tr>\n",
       "      <th>4</th>\n",
       "      <td>Which one dissolve in water quikly sugar, salt...</td>\n",
       "      <td>0.00</td>\n",
       "    </tr>\n",
       "  </tbody>\n",
       "</table>\n",
       "</div>"
      ],
      "text/plain": [
       "                                           question1  polarity\n",
       "0  What is the step by step guide to invest in sh...      0.00\n",
       "1  What is the story of Kohinoor (Koh-i-Noor) Dia...      0.00\n",
       "2  How can I increase the speed of my internet co...      0.00\n",
       "3  Why am I mentally very lonely? How can I solve...     -0.13\n",
       "4  Which one dissolve in water quikly sugar, salt...      0.00"
      ]
     },
     "execution_count": 12,
     "metadata": {},
     "output_type": "execute_result"
    }
   ],
   "source": [
    "# Keep all rows for different sentiment calculation\n",
    "All_questions = Question_polarity.loc[Question_polarity['polarity']>=-1.0]\n",
    "All_questions.head(5)"
   ]
  },
  {
   "cell_type": "code",
   "execution_count": 13,
   "metadata": {},
   "outputs": [
    {
     "data": {
      "text/html": [
       "<div>\n",
       "<style>\n",
       "    .dataframe thead tr:only-child th {\n",
       "        text-align: right;\n",
       "    }\n",
       "\n",
       "    .dataframe thead th {\n",
       "        text-align: left;\n",
       "    }\n",
       "\n",
       "    .dataframe tbody tr th {\n",
       "        vertical-align: top;\n",
       "    }\n",
       "</style>\n",
       "<table border=\"1\" class=\"dataframe\">\n",
       "  <thead>\n",
       "    <tr style=\"text-align: right;\">\n",
       "      <th></th>\n",
       "      <th>question1</th>\n",
       "    </tr>\n",
       "  </thead>\n",
       "  <tbody>\n",
       "    <tr>\n",
       "      <th>48</th>\n",
       "      <td>What are some examples of products that can be...</td>\n",
       "    </tr>\n",
       "  </tbody>\n",
       "</table>\n",
       "</div>"
      ],
      "text/plain": [
       "                                            question1\n",
       "48  What are some examples of products that can be..."
      ]
     },
     "execution_count": 13,
     "metadata": {},
     "output_type": "execute_result"
    }
   ],
   "source": [
    "# delete a column\n",
    "del Negative_questions['polarity']\n",
    "Negative_questions.head(1)"
   ]
  },
  {
   "cell_type": "code",
   "execution_count": 14,
   "metadata": {},
   "outputs": [
    {
     "data": {
      "text/html": [
       "<div>\n",
       "<style>\n",
       "    .dataframe thead tr:only-child th {\n",
       "        text-align: right;\n",
       "    }\n",
       "\n",
       "    .dataframe thead th {\n",
       "        text-align: left;\n",
       "    }\n",
       "\n",
       "    .dataframe tbody tr th {\n",
       "        vertical-align: top;\n",
       "    }\n",
       "</style>\n",
       "<table border=\"1\" class=\"dataframe\">\n",
       "  <thead>\n",
       "    <tr style=\"text-align: right;\">\n",
       "      <th></th>\n",
       "      <th>question1</th>\n",
       "    </tr>\n",
       "  </thead>\n",
       "  <tbody>\n",
       "    <tr>\n",
       "      <th>0</th>\n",
       "      <td>What is the step by step guide to invest in sh...</td>\n",
       "    </tr>\n",
       "  </tbody>\n",
       "</table>\n",
       "</div>"
      ],
      "text/plain": [
       "                                           question1\n",
       "0  What is the step by step guide to invest in sh..."
      ]
     },
     "execution_count": 14,
     "metadata": {},
     "output_type": "execute_result"
    }
   ],
   "source": [
    "# delete a column\n",
    "del All_questions['polarity']\n",
    "All_questions.head(1)"
   ]
  },
  {
   "cell_type": "code",
   "execution_count": 15,
   "metadata": {},
   "outputs": [
    {
     "data": {
      "text/html": [
       "<div>\n",
       "<style>\n",
       "    .dataframe thead tr:only-child th {\n",
       "        text-align: right;\n",
       "    }\n",
       "\n",
       "    .dataframe thead th {\n",
       "        text-align: left;\n",
       "    }\n",
       "\n",
       "    .dataframe tbody tr th {\n",
       "        vertical-align: top;\n",
       "    }\n",
       "</style>\n",
       "<table border=\"1\" class=\"dataframe\">\n",
       "  <thead>\n",
       "    <tr style=\"text-align: right;\">\n",
       "      <th></th>\n",
       "      <th>question1</th>\n",
       "    </tr>\n",
       "  </thead>\n",
       "  <tbody>\n",
       "    <tr>\n",
       "      <th>15</th>\n",
       "      <td>What would a Trump presidency mean for current international masterâs students on an F1 visa?</td>\n",
       "    </tr>\n",
       "    <tr>\n",
       "      <th>203</th>\n",
       "      <td>Why do people hate Hillary Clinton?</td>\n",
       "    </tr>\n",
       "    <tr>\n",
       "      <th>210</th>\n",
       "      <td>If Hillary Clinton could not continue her Presidential campaign how would the Democratic Party choose a new candidate?</td>\n",
       "    </tr>\n",
       "    <tr>\n",
       "      <th>234</th>\n",
       "      <td>Trump supporters, how do you feel about the way he's walking back his promises?</td>\n",
       "    </tr>\n",
       "    <tr>\n",
       "      <th>366</th>\n",
       "      <td>Who is more electable in a general Presidential election: Donald Trump or Ted Cruz?</td>\n",
       "    </tr>\n",
       "    <tr>\n",
       "      <th>412</th>\n",
       "      <td>Is Donald Trump taking cocaine, as Howard Dean suggests?</td>\n",
       "    </tr>\n",
       "    <tr>\n",
       "      <th>430</th>\n",
       "      <td>What would Hillary Clinton do now that the election is over?</td>\n",
       "    </tr>\n",
       "    <tr>\n",
       "      <th>551</th>\n",
       "      <td>How will Trump's presidency affect Indian students who are planning to do a PhD in the US?</td>\n",
       "    </tr>\n",
       "    <tr>\n",
       "      <th>583</th>\n",
       "      <td>Do Trump voters care that he has reneged all his campaign promises?</td>\n",
       "    </tr>\n",
       "    <tr>\n",
       "      <th>638</th>\n",
       "      <td>If the United States has a female president, will her husband be called the first gentleman? What will Bill Clinton be called if Hillary is elected?</td>\n",
       "    </tr>\n",
       "  </tbody>\n",
       "</table>\n",
       "</div>"
      ],
      "text/plain": [
       "                                                                                                                                                question1\n",
       "15                                                        What would a Trump presidency mean for current international masterâs students on an F1 visa?\n",
       "203                                                                                                                   Why do people hate Hillary Clinton?\n",
       "210                                If Hillary Clinton could not continue her Presidential campaign how would the Democratic Party choose a new candidate?\n",
       "234                                                                       Trump supporters, how do you feel about the way he's walking back his promises?\n",
       "366                                                                   Who is more electable in a general Presidential election: Donald Trump or Ted Cruz?\n",
       "412                                                                                              Is Donald Trump taking cocaine, as Howard Dean suggests?\n",
       "430                                                                                          What would Hillary Clinton do now that the election is over?\n",
       "551                                                            How will Trump's presidency affect Indian students who are planning to do a PhD in the US?\n",
       "583                                                                                   Do Trump voters care that he has reneged all his campaign promises?\n",
       "638  If the United States has a female president, will her husband be called the first gentleman? What will Bill Clinton be called if Hillary is elected?"
      ]
     },
     "execution_count": 15,
     "metadata": {},
     "output_type": "execute_result"
    }
   ],
   "source": [
    "# a sample of some of the questions using the top terms appearing in some of the topics later in the notebook discovered in topic modeling\n",
    "\n",
    "pd.options.display.max_colwidth = 1000\n",
    "All_questions[All_questions['question1'].str.contains(\"Trump\") | All_questions['question1'].str.contains(\"Clinton\")].head(10)"
   ]
  },
  {
   "cell_type": "code",
   "execution_count": 16,
   "metadata": {},
   "outputs": [
    {
     "data": {
      "text/html": [
       "<div>\n",
       "<style>\n",
       "    .dataframe thead tr:only-child th {\n",
       "        text-align: right;\n",
       "    }\n",
       "\n",
       "    .dataframe thead th {\n",
       "        text-align: left;\n",
       "    }\n",
       "\n",
       "    .dataframe tbody tr th {\n",
       "        vertical-align: top;\n",
       "    }\n",
       "</style>\n",
       "<table border=\"1\" class=\"dataframe\">\n",
       "  <thead>\n",
       "    <tr style=\"text-align: right;\">\n",
       "      <th></th>\n",
       "      <th>question1</th>\n",
       "    </tr>\n",
       "  </thead>\n",
       "  <tbody>\n",
       "    <tr>\n",
       "      <th>917</th>\n",
       "      <td>Does all Muslims hate Narendra Modi?</td>\n",
       "    </tr>\n",
       "    <tr>\n",
       "      <th>2510</th>\n",
       "      <td>Why is India afraid of having referendum in Kashmir?</td>\n",
       "    </tr>\n",
       "    <tr>\n",
       "      <th>3233</th>\n",
       "      <td>Was 2G spectrum scam bad for India?</td>\n",
       "    </tr>\n",
       "    <tr>\n",
       "      <th>3948</th>\n",
       "      <td>Why do people say Dhanush (South Indian actor) is ugly? I don't think so.?</td>\n",
       "    </tr>\n",
       "    <tr>\n",
       "      <th>6950</th>\n",
       "      <td>Why is India failing so miserably at the Rio Olympics?</td>\n",
       "    </tr>\n",
       "    <tr>\n",
       "      <th>13526</th>\n",
       "      <td>Do all muslims hate Prime Minister Narendra Modi and RSS?</td>\n",
       "    </tr>\n",
       "    <tr>\n",
       "      <th>14128</th>\n",
       "      <td>Why is India so bad at Olympics?</td>\n",
       "    </tr>\n",
       "    <tr>\n",
       "      <th>14647</th>\n",
       "      <td>Why don't Indians eat pheasant, grouse, goose, turkey, duck, partridge, quail, guinea pig, rabbit&amp; frog? Why are we obsessed with chicken mutton?</td>\n",
       "    </tr>\n",
       "    <tr>\n",
       "      <th>18530</th>\n",
       "      <td>Is Arvind mad about Modi?</td>\n",
       "    </tr>\n",
       "    <tr>\n",
       "      <th>18723</th>\n",
       "      <td>Why is India failing so miserably at the Rio Olympics?</td>\n",
       "    </tr>\n",
       "  </tbody>\n",
       "</table>\n",
       "</div>"
      ],
      "text/plain": [
       "                                                                                                                                               question1\n",
       "917                                                                                                                 Does all Muslims hate Narendra Modi?\n",
       "2510                                                                                                Why is India afraid of having referendum in Kashmir?\n",
       "3233                                                                                                                 Was 2G spectrum scam bad for India?\n",
       "3948                                                                          Why do people say Dhanush (South Indian actor) is ugly? I don't think so.?\n",
       "6950                                                                                              Why is India failing so miserably at the Rio Olympics?\n",
       "13526                                                                                          Do all muslims hate Prime Minister Narendra Modi and RSS?\n",
       "14128                                                                                                                   Why is India so bad at Olympics?\n",
       "14647  Why don't Indians eat pheasant, grouse, goose, turkey, duck, partridge, quail, guinea pig, rabbit& frog? Why are we obsessed with chicken mutton?\n",
       "18530                                                                                                                          Is Arvind mad about Modi?\n",
       "18723                                                                                             Why is India failing so miserably at the Rio Olympics?"
      ]
     },
     "execution_count": 16,
     "metadata": {},
     "output_type": "execute_result"
    }
   ],
   "source": [
    "# a sample of some of the questions using the top terms appearing in some of the topics later in the notebook discovered in topic modeling\n",
    "\n",
    "pd.options.display.max_colwidth = 1000\n",
    "Negative_questions[Negative_questions['question1'].str.contains(\"India\") | Negative_questions['question1'].str.contains(\"Modi\")].head(10)"
   ]
  },
  {
   "cell_type": "markdown",
   "metadata": {},
   "source": [
    "# Topic Modeling "
   ]
  },
  {
   "cell_type": "markdown",
   "metadata": {},
   "source": [
    "# Topics for All Questions"
   ]
  },
  {
   "cell_type": "code",
   "execution_count": 17,
   "metadata": {
    "collapsed": true
   },
   "outputs": [],
   "source": [
    "pd.options.display.max_colwidth = 1000\n",
    "import warnings\n",
    "warnings.filterwarnings('ignore')"
   ]
  },
  {
   "cell_type": "code",
   "execution_count": 18,
   "metadata": {},
   "outputs": [
    {
     "name": "stdout",
     "output_type": "stream",
     "text": [
      "[nltk_data] Downloading package stopwords to /Users/Misha/nltk_data...\n",
      "[nltk_data]   Package stopwords is already up-to-date!\n",
      "[nltk_data] Downloading package wordnet to /Users/Misha/nltk_data...\n",
      "[nltk_data]   Package wordnet is already up-to-date!\n"
     ]
    }
   ],
   "source": [
    "import nltk\n",
    "nltk.download('stopwords')\n",
    "nltk.download('wordnet')\n",
    "\n",
    "from nltk.corpus import stopwords \n",
    "from nltk.stem.wordnet import WordNetLemmatizer\n",
    "import string\n",
    "\n",
    "stopwords = set(stopwords.words('english'))\n",
    "punctuation = set(string.punctuation) \n",
    "lemmatize = WordNetLemmatizer()\n",
    "\n",
    "def cleaning(article):\n",
    "    one = \" \".join([i for i in article.split() if i not in stopwords])\n",
    "    two = \"\".join(i for i in one if i not in punctuation)\n",
    "    three = \" \".join(lemmatize.lemmatize(i) for i in two.split())\n",
    "    return three"
   ]
  },
  {
   "cell_type": "code",
   "execution_count": 19,
   "metadata": {
    "collapsed": true
   },
   "outputs": [],
   "source": [
    "text = All_questions.applymap(cleaning)['question1']\n",
    "text_list = [i.split() for i in text]\n",
    "len(text_list)\n",
    "\n",
    "from time import time\n",
    "import logging\n",
    "\n",
    "logging.basicConfig(format='%(asctime)s : %(levelname)s : %(message)s', level=logging.INFO,\n",
    "                   filename='running.log',filemode='w')"
   ]
  },
  {
   "cell_type": "code",
   "execution_count": 20,
   "metadata": {},
   "outputs": [
    {
     "name": "stdout",
     "output_type": "stream",
     "text": [
      "Dictionary(94281 unique tokens: ['What', 'guide', 'india', 'invest', 'market']...)\n",
      "404351\n",
      "[(0, 1), (265, 1), (404, 1), (426, 1), (481, 1), (482, 1), (483, 1), (484, 1), (485, 1)]\n",
      "used: 11841.60s\n"
     ]
    }
   ],
   "source": [
    "#ldamodel.save('topic.model')\n",
    "\n",
    "# Importing Gensim\n",
    "import gensim\n",
    "from gensim import corpora\n",
    "\n",
    "# Creating the term dictionary of our courpus, where every unique term is assigned an index. dictionary = corpora.Dictionary(doc_clean)\n",
    "dictionary = corpora.Dictionary(text_list)\n",
    "dictionary.save('dictionary.dict')\n",
    "print (dictionary)\n",
    "\n",
    "# Converting list of documents (corpus) into Document Term Matrix using dictionary prepared above.\n",
    "doc_term_matrix = [dictionary.doc2bow(doc) for doc in text_list]\n",
    "corpora.MmCorpus.serialize('corpus.mm', doc_term_matrix)\n",
    "\n",
    "print (len(doc_term_matrix))\n",
    "print (doc_term_matrix[100])\n",
    "\n",
    "start = time()\n",
    "# Creating the object for LDA model using gensim library\n",
    "Lda = gensim.models.ldamodel.LdaModel\n",
    "\n",
    "# Running and Training LDA model on the document term matrix.\n",
    "ldamodel = Lda(doc_term_matrix, num_topics=10, id2word = dictionary, passes=50, alpha = 0.5)\n",
    "print ('used: {:.2f}s'.format(time()-start))"
   ]
  },
  {
   "cell_type": "code",
   "execution_count": 21,
   "metadata": {},
   "outputs": [
    {
     "name": "stdout",
     "output_type": "stream",
     "text": [
      "0\n",
      "0.125*\"Why\" + 0.042*\"people\" + 0.027*\"Do\" + 0.022*\"Whats\" + 0.019*\"think\" + 0.014*\"Indian\" + 0.011*\"need\" + 0.009*\"say\" + 0.008*\"important\" + 0.008*\"human\"\n",
      "1\n",
      "0.035*\"would\" + 0.029*\"If\" + 0.028*\"time\" + 0.027*\"much\" + 0.023*\"someone\" + 0.017*\"take\" + 0.015*\"it\" + 0.014*\"possible\" + 0.013*\"person\" + 0.013*\"website\"\n",
      "2\n",
      "0.225*\"How\" + 0.224*\"I\" + 0.044*\"get\" + 0.022*\"make\" + 0.015*\"money\" + 0.012*\"find\" + 0.010*\"become\" + 0.010*\"want\" + 0.010*\"girl\" + 0.009*\"note\"\n",
      "3\n",
      "0.113*\"best\" + 0.062*\"Which\" + 0.026*\"Who\" + 0.019*\"work\" + 0.019*\"book\" + 0.017*\"Are\" + 0.017*\"movie\" + 0.016*\"better\" + 0.014*\"world\" + 0.013*\"phone\"\n",
      "4\n",
      "0.026*\"year\" + 0.019*\"start\" + 0.014*\"Should\" + 0.014*\"woman\" + 0.013*\"weight\" + 0.011*\"free\" + 0.011*\"lose\" + 0.011*\"In\" + 0.011*\"old\" + 0.010*\"2\"\n",
      "5\n",
      "0.418*\"What\" + 0.033*\"way\" + 0.025*\"difference\" + 0.015*\"mean\" + 0.008*\"example\" + 0.007*\"major\" + 0.007*\"computer\" + 0.006*\"car\" + 0.006*\"real\" + 0.006*\"song\"\n",
      "6\n",
      "0.042*\"one\" + 0.034*\"Quora\" + 0.028*\"know\" + 0.027*\"Does\" + 0.026*\"thing\" + 0.024*\"question\" + 0.021*\"ever\" + 0.020*\"new\" + 0.014*\"number\" + 0.012*\"could\"\n",
      "7\n",
      "0.059*\"like\" + 0.034*\"life\" + 0.023*\"many\" + 0.016*\"feel\" + 0.016*\"When\" + 0.016*\"day\" + 0.015*\"go\" + 0.013*\"different\" + 0.013*\"sex\" + 0.010*\"word\"\n",
      "8\n",
      "0.088*\"Is\" + 0.046*\"India\" + 0.041*\"good\" + 0.016*\"US\" + 0.015*\"Trump\" + 0.012*\"Will\" + 0.012*\"student\" + 0.012*\"business\" + 0.011*\"engineering\" + 0.011*\"Donald\"\n",
      "9\n",
      "0.054*\"Can\" + 0.029*\"Where\" + 0.026*\"learn\" + 0.025*\"use\" + 0.019*\"job\" + 0.014*\"language\" + 0.012*\"college\" + 0.011*\"programming\" + 0.010*\"service\" + 0.009*\"increase\"\n"
     ]
    }
   ],
   "source": [
    "# Results of Topic Modeling with LDA for negative sentiment\n",
    "\n",
    "for i in ldamodel.print_topics(): \n",
    "    for j in i: print (j)"
   ]
  },
  {
   "cell_type": "code",
   "execution_count": 22,
   "metadata": {
    "collapsed": true
   },
   "outputs": [],
   "source": [
    "from IPython.display import IFrame"
   ]
  },
  {
   "cell_type": "markdown",
   "metadata": {},
   "source": [
    "When viewing the visualization for all the topics in Quora questions below we see some interesting topics. It is not always easy to clearly discern one single topic in each category but you can get a rough idea of some of the main areas that people tend to look for. Some of these relationships are stronger then others and that can be seen by the amount of red in the visualization. Additionally, a few of the topics are not as easily seperated into one simple category of things:\n",
    "\n",
    "The categories you can roughly split the top topics into are:\n",
    "\n",
    "-Education (things like engineering, business, college, books, etc are in the topic)\n",
    "\n",
    "-Countries/Culture (India, USA, women, war, traveling, etc)\n",
    "\n",
    "-Politics/US Presidential Election (mention of Donald Trump/Hilary Clinton)\n",
    "\n",
    "-The idea of first things like a child, a new home, new startup, new year, etc\n",
    "\n",
    "-Relationships (includes terms like guy, girl, weight, sex, etc)\n",
    "\n",
    "-Making money online (Facebook, app, google, money, etc)\n",
    "\n",
    "-Friendships, where to find friends/relationships and related items\n",
    "\n",
    "\n"
   ]
  },
  {
   "cell_type": "code",
   "execution_count": 23,
   "metadata": {},
   "outputs": [
    {
     "name": "stderr",
     "output_type": "stream",
     "text": [
      "/anaconda3/lib/python3.6/site-packages/pyLDAvis/_prepare.py:387: DeprecationWarning: \n",
      ".ix is deprecated. Please use\n",
      ".loc for label based indexing or\n",
      ".iloc for positional indexing\n",
      "\n",
      "See the documentation here:\n",
      "http://pandas.pydata.org/pandas-docs/stable/indexing.html#ix-indexer-is-deprecated\n",
      "  topic_term_dists = topic_term_dists.ix[topic_order]\n"
     ]
    },
    {
     "data": {
      "text/html": [
       "\n",
       "<link rel=\"stylesheet\" type=\"text/css\" href=\"https://cdn.rawgit.com/bmabey/pyLDAvis/files/ldavis.v1.0.0.css\">\n",
       "\n",
       "\n",
       "<div id=\"ldavis_el59581159106841287064190604\"></div>\n",
       "<script type=\"text/javascript\">\n",
       "\n",
       "var ldavis_el59581159106841287064190604_data = {\"mdsDat\": {\"Freq\": [13.509799231072966, 10.910155211377646, 10.063603703852351, 9.987038619393953, 9.985854719485642, 9.520535492897052, 9.299823304111348, 9.117516002059647, 8.873033062120374, 8.73264065362902], \"cluster\": [1, 1, 1, 1, 1, 1, 1, 1, 1, 1], \"topics\": [1, 2, 3, 4, 5, 6, 7, 8, 9, 10], \"x\": [-40.00986862182617, -60.054718017578125, 387.840087890625, -38.59748840332031, -286.557373046875, 201.44204711914062, -77.02246856689453, 221.55836486816406, -296.7354736328125, 152.45166015625], \"y\": [-321.5445251464844, -80.68182373046875, 48.085357666015625, 152.38848876953125, 147.17138671875, 282.77008056640625, 386.93182373046875, -222.11598205566406, -131.42828369140625, 17.462913513183594]}, \"tinfo\": {\"Category\": [\"Default\", \"Default\", \"Default\", \"Default\", \"Default\", \"Default\", \"Default\", \"Default\", \"Default\", \"Default\", \"Default\", \"Default\", \"Default\", \"Default\", \"Default\", \"Default\", \"Default\", \"Default\", \"Default\", \"Default\", \"Default\", \"Default\", \"Default\", \"Default\", \"Default\", \"Default\", \"Default\", \"Default\", \"Default\", \"Default\", \"Topic1\", \"Topic1\", \"Topic1\", \"Topic1\", \"Topic1\", \"Topic1\", \"Topic1\", \"Topic1\", \"Topic1\", \"Topic1\", \"Topic1\", \"Topic1\", \"Topic1\", \"Topic1\", \"Topic1\", \"Topic1\", \"Topic1\", \"Topic1\", \"Topic1\", \"Topic1\", \"Topic1\", \"Topic1\", \"Topic1\", \"Topic1\", \"Topic1\", \"Topic1\", \"Topic1\", \"Topic1\", \"Topic1\", \"Topic1\", \"Topic1\", \"Topic1\", \"Topic2\", \"Topic2\", \"Topic2\", \"Topic2\", \"Topic2\", \"Topic2\", \"Topic2\", \"Topic2\", \"Topic2\", \"Topic2\", \"Topic2\", \"Topic2\", \"Topic2\", \"Topic2\", \"Topic2\", \"Topic2\", \"Topic2\", \"Topic2\", \"Topic2\", \"Topic2\", \"Topic2\", \"Topic2\", \"Topic2\", \"Topic2\", \"Topic2\", \"Topic2\", \"Topic2\", \"Topic2\", \"Topic2\", \"Topic2\", \"Topic3\", \"Topic3\", \"Topic3\", \"Topic3\", \"Topic3\", \"Topic3\", \"Topic3\", \"Topic3\", \"Topic3\", \"Topic3\", \"Topic3\", \"Topic3\", \"Topic3\", \"Topic3\", \"Topic3\", \"Topic3\", \"Topic3\", \"Topic3\", \"Topic3\", \"Topic3\", \"Topic3\", \"Topic3\", \"Topic3\", \"Topic3\", \"Topic3\", \"Topic3\", \"Topic3\", \"Topic3\", \"Topic3\", \"Topic3\", \"Topic4\", \"Topic4\", \"Topic4\", \"Topic4\", \"Topic4\", \"Topic4\", \"Topic4\", \"Topic4\", \"Topic4\", \"Topic4\", \"Topic4\", \"Topic4\", \"Topic4\", \"Topic4\", \"Topic4\", \"Topic4\", \"Topic4\", \"Topic4\", \"Topic4\", \"Topic4\", \"Topic4\", \"Topic4\", \"Topic4\", \"Topic4\", \"Topic4\", \"Topic4\", \"Topic4\", \"Topic4\", \"Topic4\", \"Topic4\", \"Topic4\", \"Topic4\", \"Topic5\", \"Topic5\", \"Topic5\", \"Topic5\", \"Topic5\", \"Topic5\", \"Topic5\", \"Topic5\", \"Topic5\", \"Topic5\", \"Topic5\", \"Topic5\", \"Topic5\", \"Topic5\", \"Topic5\", \"Topic5\", \"Topic5\", \"Topic5\", \"Topic5\", \"Topic5\", \"Topic5\", \"Topic5\", \"Topic5\", \"Topic5\", \"Topic5\", \"Topic5\", \"Topic5\", \"Topic5\", \"Topic5\", \"Topic5\", \"Topic5\", \"Topic5\", \"Topic6\", \"Topic6\", \"Topic6\", \"Topic6\", \"Topic6\", \"Topic6\", \"Topic6\", \"Topic6\", \"Topic6\", \"Topic6\", \"Topic6\", \"Topic6\", \"Topic6\", \"Topic6\", \"Topic6\", \"Topic6\", \"Topic6\", \"Topic6\", \"Topic6\", \"Topic6\", \"Topic6\", \"Topic6\", \"Topic6\", \"Topic6\", \"Topic6\", \"Topic6\", \"Topic6\", \"Topic6\", \"Topic6\", \"Topic6\", \"Topic6\", \"Topic6\", \"Topic6\", \"Topic7\", \"Topic7\", \"Topic7\", \"Topic7\", \"Topic7\", \"Topic7\", \"Topic7\", \"Topic7\", \"Topic7\", \"Topic7\", \"Topic7\", \"Topic7\", \"Topic7\", \"Topic7\", \"Topic7\", \"Topic7\", \"Topic7\", \"Topic7\", \"Topic7\", \"Topic7\", \"Topic7\", \"Topic7\", \"Topic7\", \"Topic7\", \"Topic7\", \"Topic7\", \"Topic7\", \"Topic7\", \"Topic7\", \"Topic7\", \"Topic8\", \"Topic8\", \"Topic8\", \"Topic8\", \"Topic8\", \"Topic8\", \"Topic8\", \"Topic8\", \"Topic8\", \"Topic8\", \"Topic8\", \"Topic8\", \"Topic8\", \"Topic8\", \"Topic8\", \"Topic8\", \"Topic8\", \"Topic8\", \"Topic8\", \"Topic8\", \"Topic8\", \"Topic8\", \"Topic8\", \"Topic8\", \"Topic8\", \"Topic8\", \"Topic8\", \"Topic8\", \"Topic8\", \"Topic8\", \"Topic8\", \"Topic9\", \"Topic9\", \"Topic9\", \"Topic9\", \"Topic9\", \"Topic9\", \"Topic9\", \"Topic9\", \"Topic9\", \"Topic9\", \"Topic9\", \"Topic9\", \"Topic9\", \"Topic9\", \"Topic9\", \"Topic9\", \"Topic9\", \"Topic9\", \"Topic9\", \"Topic9\", \"Topic9\", \"Topic9\", \"Topic9\", \"Topic9\", \"Topic9\", \"Topic9\", \"Topic9\", \"Topic9\", \"Topic9\", \"Topic9\", \"Topic10\", \"Topic10\", \"Topic10\", \"Topic10\", \"Topic10\", \"Topic10\", \"Topic10\", \"Topic10\", \"Topic10\", \"Topic10\", \"Topic10\", \"Topic10\", \"Topic10\", \"Topic10\", \"Topic10\", \"Topic10\", \"Topic10\", \"Topic10\", \"Topic10\", \"Topic10\", \"Topic10\", \"Topic10\", \"Topic10\", \"Topic10\", \"Topic10\", \"Topic10\", \"Topic10\", \"Topic10\", \"Topic10\", \"Topic10\", \"Topic10\"], \"Freq\": [127042.0, 84484.0, 84367.0, 34609.0, 31277.0, 24763.0, 17239.0, 14368.0, 16494.0, 13330.0, 12878.0, 11680.0, 11612.0, 10598.0, 9867.0, 10505.0, 8532.0, 8275.0, 7776.0, 7638.0, 7160.0, 7349.0, 7152.0, 7133.0, 7523.0, 7206.0, 8242.0, 6832.0, 6841.0, 6562.0, 84483.70786086218, 84366.96305563877, 16494.088509287623, 8241.427160769343, 5624.455894536894, 4437.852865983888, 3943.8976602908297, 3875.4509697061853, 3806.17697964352, 3294.8372815335656, 3144.371707573351, 2968.699232293397, 2897.8145815245807, 2673.7970774585624, 2634.048365952899, 2465.828588086669, 2436.9604576973543, 2383.955173578267, 2311.769355433207, 2283.7799900417053, 2266.91908051494, 2031.2250303036774, 2003.147788412395, 1769.537216488776, 1742.9754065867498, 1722.6503774301593, 1597.441944939959, 1557.836776720791, 1488.8493480727514, 1301.2569157452695, 2775.683402001822, 2371.254743673618, 127041.81198801621, 9866.904030668507, 7522.1542785506135, 4469.267410035147, 2510.7386678324956, 2174.0392870804963, 2115.7074637394057, 1954.5312796977653, 1898.5333004169765, 1848.3434247898015, 1659.001083465795, 1629.4900925444656, 1619.6060671544276, 1577.32445796237, 1495.7843939322172, 1374.9529363235213, 1223.1204692341894, 1216.4753257428479, 1181.705587156658, 1098.7420888880183, 1090.1180056620992, 1073.1348334976826, 1033.6364771894598, 1033.1997914845551, 1007.6675318101313, 1000.5325482516175, 978.0970956512126, 934.3050402260523, 907.3556371884631, 900.7765125460016, 24763.01148383607, 12877.889195741938, 11611.239907091409, 4379.7401431463795, 4120.55031888536, 3441.4220455420605, 3358.8811567228227, 3247.8715973331855, 3051.529831964958, 2957.723006618603, 2953.6532594195273, 2453.261867437638, 2404.4919260426545, 2326.449796543125, 2175.865759807989, 2132.9718500786494, 2004.2953368434644, 1995.2927326500335, 1845.3863785869125, 1765.0786999737425, 1764.716582448211, 1733.989534699318, 1701.0996921076223, 1698.7084385306712, 1642.0021641004382, 1544.13198109723, 1515.5601650595295, 1510.3659888281686, 1420.450785891593, 1404.5682095107086, 31276.884334796883, 17238.14229770634, 7205.592481076477, 5326.582932556464, 5203.303868849111, 4825.526798324765, 4804.009564680225, 4313.016097870159, 3985.301833022287, 3623.460942637335, 3614.311369111369, 3531.1621092035643, 2954.4690346263114, 2739.424034404455, 2679.1857186367024, 2303.952008008251, 2302.7733715000695, 2168.492665129167, 2035.8960579586912, 1870.431176305764, 1852.9982779127872, 1777.2244252455762, 1751.0516550377558, 1715.5163078243395, 1676.7862966366708, 1584.482804560575, 1567.5236642106875, 1413.386012557122, 1227.6348140872599, 1213.6789451561126, 2987.7340701467606, 1579.0337459212988, 34608.886716498666, 11679.292381558816, 7637.842343194469, 5981.596827646109, 5328.769126956431, 2941.0769252589953, 2619.475658307304, 2193.0872910005287, 2164.5978945520897, 1887.4499456839499, 1791.4574487769712, 1765.0119187391942, 1668.5726333594368, 1598.3050858343113, 1575.8987668462705, 1487.0341828812104, 1465.034023469206, 1369.8385775301736, 1359.4355097017853, 1344.2710974710462, 1257.7222312289298, 1173.2926665783702, 1143.6619086707992, 1118.860684428584, 1083.1743447311812, 1038.5685388934537, 1012.6832735782752, 1000.0368825101524, 999.100541709902, 982.6117438976023, 3956.8883651036776, 1190.3045290883845, 7775.7294488384905, 7348.262243794807, 7132.354508820838, 6202.5097384163455, 4405.005024150568, 4019.134015955924, 3681.9831152347742, 3452.919066271114, 3352.2280150566257, 3207.342022426797, 3149.7393552005296, 3057.844016868281, 2547.2799003392925, 2413.638603651145, 2094.398389633313, 2088.1150678949684, 1875.6403749097778, 1841.168705495352, 1685.646931913838, 1667.6519889426577, 1594.3608786576817, 1488.0732621370428, 1470.220308864705, 1360.0666496229371, 1332.0923350723915, 1327.3282167582372, 1290.019714055733, 1286.500195282517, 1246.9315767915766, 1234.2597055015833, 9366.023451386933, 2519.693929465511, 1794.1693750063512, 6840.184181109366, 4988.585572909514, 3637.8845631661666, 3572.164853633001, 3280.737366545402, 2906.57598781407, 2862.6630723360413, 2837.820105834073, 2732.5106163484584, 2637.1599074508704, 2499.2020444911077, 2319.8434951044173, 2185.287890156396, 2183.5791695143866, 2140.791021206493, 2138.3279570370523, 1997.953302737647, 1935.0670810166255, 1861.1394872937685, 1783.3217223095587, 1680.1482541286168, 1555.8930533948626, 1554.859265356231, 1526.8614317789138, 1441.5368641773127, 1392.2825699138327, 1368.9403373241057, 1341.533205339675, 1272.1740895420548, 1268.6926616105816, 10597.974962431666, 8531.714378568802, 7151.884534314371, 6831.748979269049, 6562.116349758083, 6067.219719067694, 5386.51167718101, 5013.862455164006, 3642.9672967745714, 2999.8698072393554, 2953.687967416617, 2874.8430388095326, 2596.8862705398037, 2586.4384485802543, 2484.2859314486363, 2340.8153949980865, 2143.2478803688587, 2123.9908371392858, 2092.8699468697973, 1768.1496178115603, 1742.845819059851, 1719.21452715469, 1613.642450040495, 1563.4940624058715, 1546.201567904931, 1414.2255731045732, 1286.4637473882888, 1271.9757764467329, 1243.0424830747186, 1231.662064587186, 1893.9106258437916, 13329.244840374058, 7159.392637738929, 6428.830861992411, 6226.717833565223, 4803.164845341663, 3377.070285199274, 2972.0451726660845, 2667.571157258134, 2466.7513343381843, 2335.345420750791, 2255.164149917184, 2080.3884833568072, 2060.4796949460447, 1918.3118235434877, 1668.174284127134, 1571.023370116319, 1518.416188580124, 1509.0788493140515, 1470.5353926411044, 1426.7587536181459, 1364.9702498743172, 1321.3153662418429, 1313.112571067646, 1310.4346423092377, 1298.6986413702014, 1261.0585200164546, 1229.7586467870071, 1210.5120973273192, 1150.3088280726256, 1142.7427480565975, 14367.721100152043, 8274.169855466474, 5635.4462571869835, 3982.6796350206605, 3823.357622062507, 3533.0667734180192, 3271.548673035653, 3178.5224974383186, 2413.573974702123, 2324.420796908471, 2293.4506191340347, 1957.4292482164808, 1728.520911274536, 1705.122926237695, 1661.7183751827104, 1648.1584699063328, 1635.496885582492, 1543.1172657129316, 1475.8562340297617, 1453.2997671846347, 1437.8497556995185, 1391.4666805944482, 1365.7784806590878, 1293.302570812476, 1279.6152553594318, 1234.1199779862677, 1222.2384698240078, 1202.4212086243037, 1200.5229554060445, 1169.1444087793973, 3788.2333746559343], \"Term\": [\"What\", \"How\", \"I\", \"Why\", \"best\", \"Is\", \"Which\", \"like\", \"get\", \"Can\", \"India\", \"people\", \"good\", \"one\", \"way\", \"would\", \"Quora\", \"life\", \"If\", \"Do\", \"Where\", \"time\", \"know\", \"much\", \"difference\", \"Who\", \"make\", \"Does\", \"year\", \"thing\", \"How\", \"I\", \"get\", \"make\", \"money\", \"find\", \"become\", \"want\", \"girl\", \"note\", \"love\", \"English\", \"account\", \"1000\", \"500\", \"stop\", \"improve\", \"friend\", \"do\", \"Im\", \"black\", \"me\", \"prepare\", \"earn\", \"My\", \"help\", \"guy\", \"rupee\", \"problem\", \"email\", \"without\", \"online\", \"What\", \"way\", \"difference\", \"mean\", \"example\", \"major\", \"computer\", \"car\", \"real\", \"song\", \"university\", \"science\", \"experience\", \"for\", \"game\", \"story\", \"play\", \"favorite\", \"history\", \"interesting\", \"United\", \"kind\", \"looking\", \"great\", \"from\", \"review\", \"salary\", \"visit\", \"common\", \"behind\", \"Is\", \"India\", \"good\", \"US\", \"Trump\", \"Will\", \"student\", \"business\", \"engineering\", \"Donald\", \"really\", \"study\", \"video\", \"happen\", \"bad\", \"card\", \"water\", \"win\", \"Hillary\", \"Clinton\", \"software\", \"right\", \"career\", \"meaning\", \"safe\", \"war\", \"president\", \"true\", \"Pakistan\", \"engineer\", \"best\", \"Which\", \"Who\", \"work\", \"book\", \"Are\", \"movie\", \"better\", \"world\", \"phone\", \"country\", \"2016\", \"buy\", \"place\", \"change\", \"why\", \"system\", \"app\", \"name\", \"top\", \"Android\", \"read\", \"course\", \"site\", \"mobile\", \"product\", \"laptop\", \"China\", \"available\", \"download\", \"company\", \"online\", \"Why\", \"people\", \"Do\", \"Whats\", \"think\", \"need\", \"say\", \"important\", \"human\", \"cant\", \"made\", \"idea\", \"relationship\", \"social\", \"not\", \"Chinese\", \"reason\", \"power\", \"law\", \"child\", \"believe\", \"Did\", \"always\", \"around\", \"parent\", \"in\", \"die\", \"American\", \"never\", \"sleep\", \"Indian\", \"them\", \"If\", \"time\", \"much\", \"someone\", \"take\", \"it\", \"possible\", \"person\", \"website\", \"used\", \"long\", \"using\", \"see\", \"still\", \"back\", \"cost\", \"hair\", \"Instagram\", \"two\", \"happens\", \"travel\", \"home\", \"view\", \"last\", \"keep\", \"message\", \"startup\", \"create\", \"build\", \"legal\", \"would\", \"first\", \"Facebook\", \"year\", \"start\", \"Should\", \"woman\", \"weight\", \"free\", \"lose\", \"In\", \"old\", \"2\", \"The\", \"1\", \"month\", \"learning\", \"iPhone\", \"exam\", \"give\", \"3\", \"tell\", \"men\", \"even\", \"write\", \"5\", \"watch\", \"4\", \"test\", \"age\", \"man\", \"body\", \"hard\", \"one\", \"Quora\", \"know\", \"Does\", \"thing\", \"question\", \"ever\", \"new\", \"number\", \"could\", \"compare\", \"Google\", \"you\", \"answer\", \"going\", \"effect\", \"data\", \"ask\", \"come\", \"energy\", \"employee\", \"2017\", \"done\", \"average\", \"New\", \"support\", \"future\", \"control\", \"Have\", \"file\", \"first\", \"Can\", \"Where\", \"learn\", \"use\", \"job\", \"language\", \"college\", \"programming\", \"service\", \"increase\", \"cause\", \"10\", \"getting\", \"interview\", \"look\", \"show\", \"process\", \"tip\", \"term\", \"web\", \"TV\", \"compared\", \"program\", \"next\", \"making\", \"dog\", \"application\", \"University\", \"worth\", \"code\", \"like\", \"life\", \"many\", \"feel\", \"When\", \"go\", \"different\", \"sex\", \"word\", \"live\", \"school\", \"anyone\", \"food\", \"high\", \"type\", \"class\", \"culture\", \"eat\", \"state\", \"Has\", \"end\", \"working\", \"every\", \"got\", \"actually\", \"exist\", \"period\", \"wrong\", \"benefit\", \"drug\", \"day\"], \"Total\": [127042.0, 84484.0, 84367.0, 34609.0, 31277.0, 24763.0, 17239.0, 14368.0, 16494.0, 13330.0, 12878.0, 11680.0, 11612.0, 10598.0, 9867.0, 10505.0, 8532.0, 8275.0, 7776.0, 7638.0, 7160.0, 7349.0, 7152.0, 7133.0, 7523.0, 7206.0, 8242.0, 6832.0, 6841.0, 6562.0, 84484.6012360316, 84367.8564101498, 16494.981888704253, 8242.320544843999, 5625.349193521857, 4438.746236169972, 3944.791041711447, 3876.3443507885295, 3807.070339941107, 3295.7305455030287, 3145.265059338308, 2969.5925700875537, 2898.7078710577557, 2674.6903560778296, 2634.9416269271055, 2466.7219167162316, 2437.853749076262, 2384.8485196217493, 2312.6627171969612, 2284.6733592561113, 2267.812448306352, 2032.118367968504, 2004.0411191880435, 1770.4305258600837, 1743.86880931351, 1723.5437398403644, 1598.335286995819, 1558.73003284135, 1489.7427579639693, 1302.1502386156442, 4516.528196762827, 3951.08753569263, 127042.70291328292, 9867.794928857606, 7523.045142119535, 4470.158322197805, 2511.6295164073767, 2174.9301600269414, 2116.5983895038935, 1955.4222287339283, 1899.4242272626516, 1849.2343138199187, 1659.8919753773184, 1630.380994319353, 1620.4970475803038, 1578.2153571911033, 1496.6753032900683, 1375.8438597753614, 1224.011414569068, 1217.3661765206268, 1182.5965041958827, 1099.6329618780314, 1091.0088983207, 1074.025758267741, 1034.5273854011205, 1034.0907818768294, 1008.5584138499588, 1001.4234164907057, 978.9880055222058, 935.1959159304821, 908.2465441591768, 901.6673992905178, 24763.890995710142, 12878.768707864458, 11612.119429904558, 4380.61964074347, 4121.429751357274, 3442.301584242141, 3359.760682731964, 3248.751113745519, 3052.409298162947, 2958.602427439196, 2954.532779620979, 2454.1413720240525, 2405.371441715583, 2327.329291239591, 2176.745269135925, 2133.8513366017905, 2005.1748518154743, 1996.1721833165752, 1846.2658208307337, 1765.958136565858, 1765.59608491456, 1734.869051933187, 1701.9791796468546, 1699.5879438151455, 1642.8816375788438, 1545.0114367935562, 1516.43962299067, 1511.2454796822258, 1421.3302493241115, 1405.4476823146267, 31277.766884156386, 17239.02483809982, 7206.475039132811, 5327.4655457710705, 5204.1864070218635, 4826.409397279549, 4804.892107520808, 4313.8986570279985, 3986.18441564267, 3624.343507045568, 3615.1939462559376, 3532.044677767306, 2955.351593667954, 2740.306593030594, 2680.0683351425073, 2304.834580531634, 2303.6559412374922, 2169.3752297313877, 2036.778648040018, 1871.3137523880487, 1853.8808238383738, 1778.1069788080492, 1751.9342188654068, 1716.3988626438677, 1677.6688447105307, 1585.3653818497964, 1568.4062052468921, 1414.2686142519015, 1228.517434839869, 1214.5615016635938, 3743.738180113388, 3951.08753569263, 34609.767459176786, 11680.17312108381, 7638.723113553684, 5982.477607368092, 5329.649869431539, 2941.9577116881246, 2620.356433941787, 2193.9680295386133, 2165.478655357593, 1888.3306948301017, 1792.3382143485192, 1765.8927090238785, 1669.4533636486333, 1599.1858486396768, 1576.779530479925, 1487.9149140251914, 1465.914796337234, 1370.719360049089, 1360.3162638528104, 1345.151840048908, 1258.6029312331762, 1174.1734156553828, 1144.5426430112175, 1119.7414751225779, 1084.0550964289084, 1039.4493684769238, 1013.5640393317134, 1000.9176320658962, 999.981310396989, 983.4925120337106, 4620.566670070625, 1661.8729726756064, 7776.605604596945, 7349.1383898683625, 7133.230668957722, 6203.385873164681, 4405.881198189676, 4020.0101995848613, 3682.8592826766258, 3453.7952134372704, 3353.10417837592, 3208.21818631631, 3150.615502077903, 3058.7202037785655, 2548.15603615838, 2414.514777121016, 2095.274548103103, 2088.9912177014094, 1876.516520615181, 1842.044806408597, 1686.5231007335267, 1668.5281473884886, 1595.237003641743, 1488.9494038671205, 1471.096465875417, 1360.942818421617, 1332.9685034737145, 1328.2043079034845, 1290.895873197166, 1287.3763411428156, 1247.8077335336693, 1235.1359118892365, 10505.19386740692, 4414.377761405788, 2686.9523015762074, 6841.057117680649, 4989.458495077476, 3638.7574877705115, 3573.0377479378603, 3281.6102199919824, 2907.448928515898, 2863.53593605007, 2838.6930641709964, 2733.3835159674854, 2638.0328199474893, 2500.074976581506, 2320.7164053953798, 2186.160787062931, 2184.4520792764274, 2141.663918411239, 2139.2008578789605, 1998.8262390793582, 1935.9399902150549, 1862.0124387127973, 1784.1946064882554, 1681.0212185285768, 1556.7659761791747, 1555.7321519633604, 1527.734338522425, 1442.4097794639624, 1393.1554956892758, 1369.8132370459368, 1342.4061110874447, 1273.0470040353534, 1269.5655963717657, 10598.848873672017, 8532.588221600985, 7152.758433973314, 6832.622896011257, 6562.990211555688, 6068.093551469722, 5387.385545432438, 5014.736363101648, 3643.8411992438214, 3000.743730247207, 2954.5618294405417, 2875.7169267223153, 2597.7601513503323, 2587.3122903314484, 2485.159818011469, 2341.6892719028383, 2144.121820745383, 2124.8646689362445, 2093.743868556231, 1769.0234658804636, 1743.7196487211602, 1720.0883986865572, 1614.5163268847523, 1564.3679385714324, 1547.0754443005544, 1415.099480224176, 1287.3376572213826, 1272.8496654397388, 1243.9163571284848, 1232.5359617948052, 4414.377761405788, 13330.115349868387, 7160.263124356416, 6429.701333077718, 6227.5883370341935, 4804.035339702046, 3377.940744948988, 2972.9156954746823, 2668.4416175417027, 2467.62183539514, 2336.2159056822716, 2256.0346598107776, 2081.2590116761853, 2061.350262352651, 1919.1823036937562, 1669.0447971691715, 1571.8939229880286, 1519.2866575503201, 1509.9493227083613, 1471.4058847769052, 1427.6292209466183, 1365.8407215538791, 1322.1859043409713, 1313.98308392466, 1311.3051704737495, 1299.5691104931318, 1261.9290008962832, 1230.6291398069748, 1211.382583835652, 1151.1793233796734, 1143.6132241282182, 14368.592382198787, 8275.04112681161, 5636.31756386008, 3983.5509004950463, 3824.2289189348385, 3533.938074223236, 3272.419948313836, 3179.393769603488, 2414.4452459366635, 2325.292086359299, 2294.321889614533, 1958.3005373628769, 1729.39216753318, 1705.9942042608518, 1662.5896573624473, 1649.029755100706, 1636.368111897553, 1543.988530176116, 1476.7275230113485, 1454.171040460513, 1438.721052812483, 1392.337975216901, 1366.6497923862757, 1294.1738892539418, 1280.4865775204773, 1234.991252116069, 1223.1097252022707, 1203.292527287106, 1201.3942271912883, 1170.0156552007584, 4906.769540729551], \"loglift\": [30.0, 29.0, 28.0, 27.0, 26.0, 25.0, 24.0, 23.0, 22.0, 21.0, 20.0, 19.0, 18.0, 17.0, 16.0, 15.0, 14.0, 13.0, 12.0, 11.0, 10.0, 9.0, 8.0, 7.0, 6.0, 5.0, 4.0, 3.0, 2.0, 1.0, 2.0017, 2.0017, 2.0017, 2.0016, 2.0016, 2.0016, 2.0015, 2.0015, 2.0015, 2.0015, 2.0015, 2.0015, 2.0014, 2.0014, 2.0014, 2.0014, 2.0014, 2.0014, 2.0014, 2.0014, 2.0014, 2.0013, 2.0013, 2.0013, 2.0012, 2.0012, 2.0012, 2.0012, 2.0012, 2.0011, 1.5149, 1.4912, 2.2155, 2.2154, 2.2154, 2.2153, 2.2151, 2.2151, 2.2151, 2.215, 2.215, 2.215, 2.2149, 2.2149, 2.2149, 2.2149, 2.2149, 2.2148, 2.2147, 2.2147, 2.2147, 2.2147, 2.2147, 2.2146, 2.2146, 2.2146, 2.2146, 2.2146, 2.2146, 2.2145, 2.2145, 2.2145, 2.2962, 2.2962, 2.2962, 2.296, 2.296, 2.296, 2.296, 2.296, 2.296, 2.2959, 2.2959, 2.2959, 2.2959, 2.2959, 2.2958, 2.2958, 2.2958, 2.2958, 2.2958, 2.2957, 2.2957, 2.2957, 2.2957, 2.2957, 2.2957, 2.2957, 2.2957, 2.2957, 2.2956, 2.2956, 2.3039, 2.3038, 2.3038, 2.3037, 2.3037, 2.3037, 2.3037, 2.3037, 2.3037, 2.3036, 2.3036, 2.3036, 2.3036, 2.3036, 2.3036, 2.3035, 2.3035, 2.3035, 2.3034, 2.3034, 2.3034, 2.3034, 2.3034, 2.3034, 2.3034, 2.3033, 2.3033, 2.3033, 2.3032, 2.3032, 2.0783, 1.3867, 2.304, 2.3039, 2.3039, 2.3039, 2.3038, 2.3037, 2.3037, 2.3036, 2.3036, 2.3035, 2.3035, 2.3035, 2.3035, 2.3034, 2.3034, 2.3034, 2.3034, 2.3034, 2.3034, 2.3033, 2.3033, 2.3033, 2.3032, 2.3032, 2.3032, 2.3032, 2.3031, 2.3031, 2.3031, 2.3031, 2.1489, 1.9703, 2.3516, 2.3516, 2.3516, 2.3516, 2.3515, 2.3515, 2.3515, 2.3515, 2.3515, 2.3514, 2.3514, 2.3514, 2.3514, 2.3514, 2.3513, 2.3513, 2.3513, 2.3512, 2.3512, 2.3512, 2.3512, 2.3511, 2.3511, 2.3511, 2.3511, 2.3511, 2.351, 2.351, 2.351, 2.351, 2.2369, 1.791, 1.9479, 2.375, 2.375, 2.3749, 2.3749, 2.3749, 2.3749, 2.3749, 2.3749, 2.3749, 2.3748, 2.3748, 2.3748, 2.3748, 2.3748, 2.3748, 2.3748, 2.3747, 2.3747, 2.3747, 2.3747, 2.3747, 2.3746, 2.3746, 2.3746, 2.3746, 2.3745, 2.3745, 2.3745, 2.3745, 2.3745, 2.3949, 2.3949, 2.3949, 2.3948, 2.3948, 2.3948, 2.3948, 2.3948, 2.3947, 2.3947, 2.3947, 2.3947, 2.3946, 2.3946, 2.3946, 2.3946, 2.3946, 2.3946, 2.3946, 2.3945, 2.3945, 2.3945, 2.3944, 2.3944, 2.3944, 2.3944, 2.3943, 2.3943, 2.3943, 2.3943, 1.5487, 2.4221, 2.422, 2.422, 2.422, 2.422, 2.4219, 2.4219, 2.4218, 2.4218, 2.4218, 2.4218, 2.4217, 2.4217, 2.4217, 2.4216, 2.4216, 2.4216, 2.4216, 2.4216, 2.4215, 2.4215, 2.4215, 2.4215, 2.4215, 2.4215, 2.4215, 2.4214, 2.4214, 2.4214, 2.4214, 2.438, 2.438, 2.4379, 2.4379, 2.4379, 2.4379, 2.4378, 2.4378, 2.4377, 2.4377, 2.4377, 2.4377, 2.4376, 2.4376, 2.4376, 2.4376, 2.4376, 2.4375, 2.4375, 2.4375, 2.4375, 2.4375, 2.4375, 2.4374, 2.4374, 2.4374, 2.4374, 2.4374, 2.4374, 2.4374, 2.1794], \"logprob\": [30.0, 29.0, 28.0, 27.0, 26.0, 25.0, 24.0, 23.0, 22.0, 21.0, 20.0, 19.0, 18.0, 17.0, 16.0, 15.0, 14.0, 13.0, 12.0, 11.0, 10.0, 9.0, 8.0, 7.0, 6.0, 5.0, 4.0, 3.0, 2.0, 1.0, -1.492799997329712, -1.4941999912261963, -3.1263999938964844, -3.820199966430664, -4.202300071716309, -4.439199924468994, -4.557199954986572, -4.574699878692627, -4.592800140380859, -4.736999988555908, -4.78380012512207, -4.841300010681152, -4.8653998374938965, -4.945899963378906, -4.960899829864502, -5.026899814605713, -5.038599967956543, -5.0605998039245605, -5.091400146484375, -5.103600025177002, -5.111000061035156, -5.220699787139893, -5.2347002029418945, -5.358699798583984, -5.373799800872803, -5.385499954223633, -5.460999965667725, -5.486100196838379, -5.531400203704834, -5.666100025177002, -4.9085001945495605, -5.065999984741211, -0.8711000084877014, -3.426500082015991, -3.6977999210357666, -4.218400001525879, -4.795100212097168, -4.9390997886657715, -4.966300010681152, -5.045499801635742, -5.0746002197265625, -5.101399898529053, -5.209400177001953, -5.227399826049805, -5.233500003814697, -5.259900093078613, -5.313000202178955, -5.397200107574463, -5.5142998695373535, -5.519700050354004, -5.548699855804443, -5.621500015258789, -5.62939977645874, -5.645100116729736, -5.682600021362305, -5.683000087738037, -5.708000183105469, -5.715099811553955, -5.737800121307373, -5.783599853515625, -5.812900066375732, -5.820199966430664, -2.42549991607666, -3.079400062561035, -3.1828999519348145, -4.157899856567383, -4.218900203704834, -4.39900016784668, -4.423299789428711, -4.456900119781494, -4.5192999839782715, -4.55049991607666, -4.5518999099731445, -4.737500190734863, -4.757599830627441, -4.790599822998047, -4.857500076293945, -4.877399921417236, -4.939599990844727, -4.9440999031066895, -5.022200107574463, -5.066699981689453, -5.06689977645874, -5.084499835968018, -5.103600025177002, -5.105000019073486, -5.138999938964844, -5.200399875640869, -5.219099998474121, -5.222499847412109, -5.283899784088135, -5.295199871063232, -2.1844000816345215, -2.780100107192993, -3.652400016784668, -3.9544999599456787, -3.9779999256134033, -4.053299903869629, -4.057799816131592, -4.165599822998047, -4.24459981918335, -4.339799880981445, -4.342400074005127, -4.365600109100342, -4.543900012969971, -4.619500160217285, -4.64169979095459, -4.792600154876709, -4.793099880218506, -4.8531999588012695, -4.916299819946289, -5.001100063323975, -5.010499954223633, -5.052199840545654, -5.066999912261963, -5.087500095367432, -5.110400199890137, -5.166999816894531, -5.177800178527832, -5.281300067901611, -5.4222002029418945, -5.433599948883057, -4.532700061798096, -5.170400142669678, -2.0829999446868896, -3.169300079345703, -3.5940001010894775, -3.8385000228881836, -3.9539999961853027, -4.548399925231934, -4.6641998291015625, -4.841800212860107, -4.854899883270264, -4.9918999671936035, -5.044099807739258, -5.059000015258789, -5.115200042724609, -5.158199787139893, -5.172299861907959, -5.230400085449219, -5.245299816131592, -5.312399864196777, -5.320099830627441, -5.331299781799316, -5.397799968719482, -5.467299938201904, -5.4928998947143555, -5.514800071716309, -5.5472002029418945, -5.589300155639648, -5.614500045776367, -5.627099990844727, -5.627999782562256, -5.644700050354004, -4.251699924468994, -5.452899932861328, -3.52839994430542, -3.5850000381469727, -3.614799976348877, -3.754499912261963, -4.096700191497803, -4.188399791717529, -4.276000022888184, -4.340199947357178, -4.369800090789795, -4.414000034332275, -4.43209981918335, -4.461699962615967, -4.644400119781494, -4.698299884796143, -4.840199947357178, -4.843200206756592, -4.950500011444092, -4.968999862670898, -5.057300090789795, -5.067999839782715, -5.1128997802734375, -5.1819000244140625, -5.193999767303467, -5.271900177001953, -5.292699813842773, -5.296299934387207, -5.32480001449585, -5.327499866485596, -5.358699798583984, -5.368899822235107, -3.3422999382019043, -4.655300140380859, -4.994900226593018, -3.63319993019104, -3.9488000869750977, -4.264599800109863, -4.282800197601318, -4.3678998947143555, -4.488999843597412, -4.504199981689453, -4.512899875640869, -4.5507001876831055, -4.586299896240234, -4.639999866485596, -4.7144999504089355, -4.774199962615967, -4.775000095367432, -4.7947998046875, -4.795899868011475, -4.863800048828125, -4.8958001136779785, -4.934800148010254, -4.977499961853027, -5.037099838256836, -5.113900184631348, -5.11460018157959, -5.132800102233887, -5.190299987792969, -5.224999904632568, -5.2418999671936035, -5.262199878692627, -5.315199851989746, -5.317999839782715, -3.17549991607666, -3.392400026321411, -3.5687999725341797, -3.6145999431610107, -3.654900074005127, -3.733299970626831, -3.852299928665161, -3.9240000247955322, -4.2434000968933105, -4.437600135803223, -4.453100204467773, -4.480199813842773, -4.581900119781494, -4.585899829864502, -4.626200199127197, -4.685699939727783, -4.773799896240234, -4.782899856567383, -4.797599792480469, -4.96619987487793, -4.980599880218506, -4.99429988861084, -5.057700157165527, -5.089200019836426, -5.100399971008301, -5.189599990844727, -5.284299850463867, -5.295599937438965, -5.318600177764893, -5.3277997970581055, -4.897500038146973, -2.9189999103546143, -3.540600061416626, -3.648200035095215, -3.6800999641418457, -3.93969988822937, -4.291999816894531, -4.4197001457214355, -4.5278000831604, -4.606100082397461, -4.660799980163574, -4.695799827575684, -4.776400089263916, -4.785999774932861, -4.857500076293945, -4.997300148010254, -5.057300090789795, -5.091300010681152, -5.097499847412109, -5.1234002113342285, -5.153600215911865, -5.19789981842041, -5.230400085449219, -5.236599922180176, -5.23859977722168, -5.247600078582764, -5.2769999504089355, -5.302199840545654, -5.31790018081665, -5.36899995803833, -5.3755998611450195, -2.8280999660491943, -3.3798999786376953, -3.7639999389648438, -4.111100196838379, -4.151899814605713, -4.230899810791016, -4.307799816131592, -4.336599826812744, -4.6118998527526855, -4.649600028991699, -4.663000106811523, -4.821400165557861, -4.945799827575684, -4.959400177001953, -4.985199928283691, -4.9934000968933105, -5.001100063323975, -5.059199810028076, -5.103799819946289, -5.119200229644775, -5.129899978637695, -5.162700176239014, -5.181300163269043, -5.235799789428711, -5.246500015258789, -5.282700061798096, -5.292399883270264, -5.308700084686279, -5.310299873352051, -5.3368000984191895, -4.161099910736084]}, \"token.table\": {\"Topic\": [7, 9, 1, 7, 4, 8, 7, 7, 7, 1, 5, 4, 4, 9, 4, 5, 3, 5, 5, 8, 3, 1, 1, 6, 8, 10, 8, 3, 1, 1, 6, 1, 7, 3, 1, 5, 6, 3, 1, 8, 3, 8, 7, 9, 7, 3, 3, 2, 9, 2, 5, 10, 9, 4, 4, 5, 3, 1, 10, 7, 5, 8, 10, 4, 9, 5, 8, 4, 8, 6, 3, 1, 2, 5, 10, 4, 4, 1, 7, 4, 6, 3, 4, 5, 2, 3, 3, 9, 4, 5, 10, 9, 9, 8, 2, 4, 10, 8, 9, 2, 8, 6, 8, 4, 4, 6, 10, 8, 8, 10, 5, 2, 10, 1, 9, 8, 4, 10, 1, 10, 8, 1, 8, 10, 8, 3, 3, 7, 8, 10, 7, 2, 10, 2, 2, 10, 8, 1, 6, 8, 10, 2, 7, 1, 2, 8, 2, 1, 9, 1, 7, 10, 8, 3, 10, 2, 1, 6, 3, 6, 7, 1, 10, 2, 6, 5, 7, 5, 5, 1, 5, 9, 2, 9, 6, 9, 6, 2, 8, 9, 4, 6, 5, 9, 7, 6, 10, 10, 10, 6, 9, 2, 7, 1, 5, 2, 1, 9, 7, 10, 1, 2, 3, 7, 6, 4, 1, 7, 4, 6, 4, 5, 5, 8, 9, 5, 1, 8, 7, 8, 1, 4, 5, 5, 10, 6, 4, 4, 2, 6, 5, 1, 3, 1, 9, 4, 9, 9, 8, 4, 2, 3, 5, 5, 2, 3, 1, 3, 2, 5, 10, 2, 6, 9, 10, 9, 4, 5, 5, 3, 6, 2, 7, 6, 10, 6, 1, 2, 3, 3, 8, 4, 6, 7, 9, 7, 5, 6, 8, 5, 6, 9, 4, 6, 3, 6, 10, 2, 9, 6, 6, 3, 6, 2, 1, 3, 7, 3, 2, 9, 6, 7, 4, 3, 1, 3, 8, 7, 10, 4, 10, 4, 9, 3, 6, 7, 10, 7, 8], \"Freq\": [0.999691299896138, 0.9993950720841942, 0.9997418930844608, 0.999608488590559, 0.9997042286090315, 0.99936724258626, 0.9995144528137205, 0.9997159063465899, 0.9995293843079374, 0.999642638410854, 0.9990832092107297, 0.9995248756947871, 0.9999151756003584, 0.9999163285658741, 0.9991029891782103, 0.9993851032632529, 0.9994574409517311, 0.9990006453563524, 0.9999053358077084, 0.9999088350080582, 0.9997963810772245, 0.9998004540779356, 0.33197463143530276, 0.6676709515638265, 0.9997506963513504, 0.9991947023919949, 0.9992633289825047, 0.9993143886343712, 0.9999928834838208, 0.9999898490943561, 0.9999221248154095, 0.9997052711043426, 0.9997558509654516, 0.9999403120063809, 0.14348889375290977, 0.8563884654302624, 0.999432800763064, 0.9999640203669813, 0.9995017920448661, 0.9993048533576586, 0.999064081465413, 0.9999310617616005, 0.9997918279047017, 0.999384465889315, 0.9995700222627021, 0.9998957276034773, 0.9998585495216917, 0.999075261143834, 0.9996841758823702, 0.9999944671101385, 0.9999201656237703, 0.9996786492229182, 0.9998235924665787, 0.9999405512719284, 0.9999340816237854, 0.9999778253587606, 0.9996218854710176, 0.9997557977246264, 0.9996200057626379, 0.9994063153837741, 0.9995258865936267, 0.9994927978596352, 0.9993358846928428, 0.999366071063899, 0.9994887657161495, 0.9993378157913667, 0.9995930710558253, 0.9995788135966206, 0.9991255646848135, 0.9993917035339084, 0.9996576222553497, 0.999799471834355, 0.9992598165453881, 0.9995209519871486, 0.9996718585936525, 0.9999754814926773, 0.9997916833241934, 0.9996417480171437, 0.9991775605833606, 0.9997720283385194, 0.9993526778910227, 0.9997687992341607, 0.9995426623110258, 0.9992953062544898, 0.999784072857655, 0.9996010328427348, 0.9994246817713377, 0.9995413812432897, 0.9996013776482865, 0.9991437100150224, 0.9993755387993934, 0.9994637836330673, 0.9996919874061427, 0.9996447184551069, 0.9986275266697208, 0.7981327369184512, 0.20167008580101428, 0.9998098433971009, 0.9991030729210788, 0.9997172871779262, 0.9993324699194187, 0.9995255041318459, 0.999752151361774, 0.9996697421290014, 0.9994667500324231, 0.9997076681225309, 0.9991639339048434, 0.9994767924403694, 0.2278484837569471, 0.7719946837847188, 0.9994435089349802, 0.9998610745914998, 0.9998716704089118, 0.9997134397540838, 0.9992638247511362, 0.9996801971735099, 0.999537691864245, 0.9991319302470495, 0.9997568241996536, 0.999359755492482, 0.9997056518509485, 0.9991166621319618, 0.9995872910409148, 0.9994988237566459, 0.999421451495583, 0.9996814663966079, 0.9998659098033827, 0.9993925011074692, 0.9999284355223537, 0.9995245362858167, 0.9994386418299444, 0.9997493593687825, 0.9991973610222983, 0.9996932746153127, 0.9988777604085145, 0.9998617061740123, 0.9995651552478642, 0.9998318813173209, 0.5708618827396161, 0.42905254202731463, 0.9997732338907609, 0.9992299167629022, 0.9998455936709688, 0.9996442039757376, 0.9994463247321221, 0.9989609119146954, 0.9995487977328257, 0.9999404734900057, 0.99934496219429, 0.9997188546978296, 0.9995866378661615, 0.9997345527274294, 0.999533302444751, 0.9999035981406051, 0.9990929431788965, 0.9989451778354994, 0.9991645764147967, 0.9997247449678665, 0.9994288340525792, 0.9996834651010741, 0.999554496141529, 0.9996845221691822, 0.9994172288168572, 0.9994955978698006, 0.9993623666024818, 0.9997789609440809, 0.9996899987876101, 0.9994944715387766, 0.9995587768255598, 0.9996497947932335, 0.999567686035942, 0.9994795405341971, 0.9994243880458527, 0.9993839544625434, 0.9997487072085126, 0.999784485410944, 0.9992734235871361, 0.9990449407196758, 0.9998939662257135, 0.999721503418793, 0.9997410076257457, 0.9993072314215887, 0.9990323839479194, 0.9998909229151733, 0.9997930468327888, 0.9990803344973599, 0.9998741846964075, 0.999958772426482, 0.9994443337390263, 0.9998046406876698, 0.999374014903049, 0.9994902161039304, 0.9998128411648958, 0.999597789275485, 0.999253369515973, 0.9995723264847595, 0.9998397848231194, 0.9995620775466756, 0.9996974752393553, 0.9997662367591692, 0.9994496541214664, 0.9997408766951154, 0.9996540668476233, 0.9993304505663725, 0.9990932811342966, 0.9996013249500105, 0.9997601582629909, 0.9994690294191534, 0.9998143334957695, 0.9998274738313065, 0.9996177061062737, 0.999674464495421, 0.9990186712623664, 0.9998531601567201, 0.9990046783135325, 0.9995056185948281, 0.99977833579143, 0.9997691449221234, 0.9998596918561756, 0.9999199088804704, 0.6000879450483653, 0.39963680524309103, 0.9990267132801791, 0.9998995630397214, 0.9990927018407223, 0.9997697566334632, 0.9996293102342655, 0.9995231945819797, 0.9991736886134971, 0.9997666805569608, 0.9994751952368549, 0.9994804901066774, 0.9997100952889882, 0.9995014186442601, 0.9991531173238929, 0.9991387588845901, 0.9992518290861678, 0.999834503577369, 0.9998197866495553, 0.9993774397034361, 0.9997766548111988, 0.9998196738162278, 0.9993759553150566, 0.9997284358709833, 0.9995771853506388, 0.9994990677064539, 0.9995316489539762, 0.9994633590401905, 0.9989907889405869, 0.9994823475447016, 0.9994238430010555, 0.9991529622068923, 0.9995463244236318, 0.9997480021508075, 0.9998761494699862, 0.9994313083249731, 0.9997676165764563, 0.9994992213690655, 0.9992584672752791, 0.9996623888557225, 0.9999377963627332, 0.9993325270839426, 0.999908107246923, 0.9993060066146564, 0.9995073410632552, 0.9997867989353829, 0.999707337616235, 0.9993866602162987, 0.9997735902036494, 0.9995349200184376, 0.9992230367973834, 0.9997152607619262, 0.9997999950180141, 0.9994562664073838, 0.9997241517238007, 0.9991705910123808, 0.7160595421947963, 0.2834151633392849, 0.999849121890515, 0.9998780652674266, 0.9998450988662927, 0.9993712883643946, 0.999297951833907, 0.999224564350677, 0.9991758587873575, 0.9996898348244982, 0.9996453380063829, 0.9994626304659882, 0.9999055273081082, 0.999620291936033, 0.9997645408109981, 0.9994298420228167, 0.9992546607915583, 0.9987212134803944, 0.9996531910824031, 0.9993453531996791, 0.999519328391129, 0.9994140900907417, 0.9999194420979219, 0.999559254645824, 0.9996706996510752, 0.999814048606911, 0.9996379000303608, 0.9994127844650016, 0.6146313892138807, 0.30864414861820955, 0.07660751464985689, 0.9997095614401333, 0.999815590791544, 0.999912614024986, 0.9990390442258156, 0.9997028698326094, 0.9989755519789818, 0.10832736781095706, 0.8915589867464182, 0.9995079696043624, 0.9989258411751131, 0.9998454745133005, 0.9997073820114081], \"Term\": [\"1\", \"10\", \"1000\", \"2\", \"2016\", \"2017\", \"3\", \"4\", \"5\", \"500\", \"American\", \"Android\", \"Are\", \"Can\", \"China\", \"Chinese\", \"Clinton\", \"Did\", \"Do\", \"Does\", \"Donald\", \"English\", \"Facebook\", \"Facebook\", \"Google\", \"Has\", \"Have\", \"Hillary\", \"How\", \"I\", \"If\", \"Im\", \"In\", \"India\", \"Indian\", \"Indian\", \"Instagram\", \"Is\", \"My\", \"New\", \"Pakistan\", \"Quora\", \"Should\", \"TV\", \"The\", \"Trump\", \"US\", \"United\", \"University\", \"What\", \"Whats\", \"When\", \"Where\", \"Which\", \"Who\", \"Why\", \"Will\", \"account\", \"actually\", \"age\", \"always\", \"answer\", \"anyone\", \"app\", \"application\", \"around\", \"ask\", \"available\", \"average\", \"back\", \"bad\", \"become\", \"behind\", \"believe\", \"benefit\", \"best\", \"better\", \"black\", \"body\", \"book\", \"build\", \"business\", \"buy\", \"cant\", \"car\", \"card\", \"career\", \"cause\", \"change\", \"child\", \"class\", \"code\", \"college\", \"come\", \"common\", \"company\", \"company\", \"compare\", \"compared\", \"computer\", \"control\", \"cost\", \"could\", \"country\", \"course\", \"create\", \"culture\", \"data\", \"day\", \"day\", \"die\", \"difference\", \"different\", \"do\", \"dog\", \"done\", \"download\", \"drug\", \"earn\", \"eat\", \"effect\", \"email\", \"employee\", \"end\", \"energy\", \"engineer\", \"engineering\", \"even\", \"ever\", \"every\", \"exam\", \"example\", \"exist\", \"experience\", \"favorite\", \"feel\", \"file\", \"find\", \"first\", \"first\", \"food\", \"for\", \"free\", \"friend\", \"from\", \"future\", \"game\", \"get\", \"getting\", \"girl\", \"give\", \"go\", \"going\", \"good\", \"got\", \"great\", \"guy\", \"hair\", \"happen\", \"happens\", \"hard\", \"help\", \"high\", \"history\", \"home\", \"human\", \"iPhone\", \"idea\", \"important\", \"improve\", \"in\", \"increase\", \"interesting\", \"interview\", \"it\", \"job\", \"keep\", \"kind\", \"know\", \"language\", \"laptop\", \"last\", \"law\", \"learn\", \"learning\", \"legal\", \"life\", \"like\", \"live\", \"long\", \"look\", \"looking\", \"lose\", \"love\", \"made\", \"major\", \"make\", \"making\", \"man\", \"many\", \"me\", \"mean\", \"meaning\", \"men\", \"message\", \"mobile\", \"money\", \"month\", \"movie\", \"much\", \"name\", \"need\", \"never\", \"new\", \"next\", \"not\", \"note\", \"number\", \"old\", \"one\", \"online\", \"online\", \"parent\", \"people\", \"period\", \"person\", \"phone\", \"place\", \"play\", \"possible\", \"power\", \"prepare\", \"president\", \"problem\", \"process\", \"product\", \"program\", \"programming\", \"question\", \"read\", \"real\", \"really\", \"reason\", \"relationship\", \"review\", \"right\", \"rupee\", \"safe\", \"salary\", \"say\", \"school\", \"science\", \"see\", \"service\", \"sex\", \"show\", \"site\", \"sleep\", \"social\", \"software\", \"someone\", \"song\", \"start\", \"startup\", \"state\", \"still\", \"stop\", \"story\", \"student\", \"study\", \"support\", \"system\", \"take\", \"tell\", \"term\", \"test\", \"them\", \"them\", \"thing\", \"think\", \"time\", \"tip\", \"top\", \"travel\", \"true\", \"two\", \"type\", \"university\", \"use\", \"used\", \"using\", \"video\", \"view\", \"visit\", \"want\", \"war\", \"watch\", \"water\", \"way\", \"web\", \"website\", \"weight\", \"why\", \"win\", \"without\", \"without\", \"without\", \"woman\", \"word\", \"work\", \"working\", \"world\", \"worth\", \"would\", \"would\", \"write\", \"wrong\", \"year\", \"you\"]}, \"R\": 30, \"lambda.step\": 0.01, \"plot.opts\": {\"xlab\": \"PC1\", \"ylab\": \"PC2\"}, \"topic.order\": [3, 6, 9, 4, 1, 2, 5, 7, 10, 8]};\n",
       "\n",
       "function LDAvis_load_lib(url, callback){\n",
       "  var s = document.createElement('script');\n",
       "  s.src = url;\n",
       "  s.async = true;\n",
       "  s.onreadystatechange = s.onload = callback;\n",
       "  s.onerror = function(){console.warn(\"failed to load library \" + url);};\n",
       "  document.getElementsByTagName(\"head\")[0].appendChild(s);\n",
       "}\n",
       "\n",
       "if(typeof(LDAvis) !== \"undefined\"){\n",
       "   // already loaded: just create the visualization\n",
       "   !function(LDAvis){\n",
       "       new LDAvis(\"#\" + \"ldavis_el59581159106841287064190604\", ldavis_el59581159106841287064190604_data);\n",
       "   }(LDAvis);\n",
       "}else if(typeof define === \"function\" && define.amd){\n",
       "   // require.js is available: use it to load d3/LDAvis\n",
       "   require.config({paths: {d3: \"https://cdnjs.cloudflare.com/ajax/libs/d3/3.5.5/d3.min\"}});\n",
       "   require([\"d3\"], function(d3){\n",
       "      window.d3 = d3;\n",
       "      LDAvis_load_lib(\"https://cdn.rawgit.com/bmabey/pyLDAvis/files/ldavis.v1.0.0.js\", function(){\n",
       "        new LDAvis(\"#\" + \"ldavis_el59581159106841287064190604\", ldavis_el59581159106841287064190604_data);\n",
       "      });\n",
       "    });\n",
       "}else{\n",
       "    // require.js not available: dynamically load d3 & LDAvis\n",
       "    LDAvis_load_lib(\"https://cdnjs.cloudflare.com/ajax/libs/d3/3.5.5/d3.min.js\", function(){\n",
       "         LDAvis_load_lib(\"https://cdn.rawgit.com/bmabey/pyLDAvis/files/ldavis.v1.0.0.js\", function(){\n",
       "                 new LDAvis(\"#\" + \"ldavis_el59581159106841287064190604\", ldavis_el59581159106841287064190604_data);\n",
       "            })\n",
       "         });\n",
       "}\n",
       "</script>"
      ],
      "text/plain": [
       "<IPython.core.display.HTML object>"
      ]
     },
     "execution_count": 23,
     "metadata": {},
     "output_type": "execute_result"
    }
   ],
   "source": [
    "# All Sentiment Analysis\n",
    "\n",
    "import warnings\n",
    "warnings.filterwarnings('ignore')\n",
    "\n",
    "ldamodel.save('topic.model')\n",
    "import os \n",
    "%matplotlib inline\n",
    "import pyLDAvis.gensim\n",
    "import gensim\n",
    "pyLDAvis.enable_notebook()\n",
    "\n",
    "d = gensim.corpora.Dictionary.load('dictionary.dict')\n",
    "c = gensim.corpora.MmCorpus('corpus.mm')\n",
    "lda = gensim.models.LdaModel.load('topic.model')\n",
    "\n",
    "pd.options.display.max_colwidth = 5000\n",
    "data = pyLDAvis.gensim.prepare(lda, c, d, mds='tsne')\n",
    "pyLDAvis.display(data)"
   ]
  },
  {
   "cell_type": "markdown",
   "metadata": {},
   "source": [
    "# Topics for Negative Questions"
   ]
  },
  {
   "cell_type": "code",
   "execution_count": 24,
   "metadata": {
    "collapsed": true
   },
   "outputs": [],
   "source": [
    "pd.options.display.max_colwidth = 1000\n",
    "import warnings\n",
    "warnings.filterwarnings('ignore')"
   ]
  },
  {
   "cell_type": "code",
   "execution_count": 25,
   "metadata": {},
   "outputs": [
    {
     "name": "stdout",
     "output_type": "stream",
     "text": [
      "[nltk_data] Downloading package stopwords to /Users/Misha/nltk_data...\n",
      "[nltk_data]   Package stopwords is already up-to-date!\n",
      "[nltk_data] Downloading package wordnet to /Users/Misha/nltk_data...\n",
      "[nltk_data]   Package wordnet is already up-to-date!\n"
     ]
    }
   ],
   "source": [
    "import nltk\n",
    "nltk.download('stopwords')\n",
    "nltk.download('wordnet')\n",
    "\n",
    "from nltk.corpus import stopwords \n",
    "from nltk.stem.wordnet import WordNetLemmatizer\n",
    "import string\n",
    "\n",
    "stopwords = set(stopwords.words('english'))\n",
    "punctuation = set(string.punctuation) \n",
    "lemmatize = WordNetLemmatizer()\n",
    "\n",
    "def cleaning(article):\n",
    "    one = \" \".join([i for i in article.split() if i not in stopwords])\n",
    "    two = \"\".join(i for i in one if i not in punctuation)\n",
    "    three = \" \".join(lemmatize.lemmatize(i) for i in two.split())\n",
    "    return three"
   ]
  },
  {
   "cell_type": "code",
   "execution_count": 26,
   "metadata": {
    "collapsed": true
   },
   "outputs": [],
   "source": [
    "text = Negative_questions.applymap(cleaning)['question1']\n",
    "text_list = [i.split() for i in text]\n",
    "len(text_list)\n",
    "\n",
    "from time import time\n",
    "import logging\n",
    "\n",
    "logging.basicConfig(format='%(asctime)s : %(levelname)s : %(message)s', level=logging.INFO,\n",
    "                   filename='running.log',filemode='w')"
   ]
  },
  {
   "cell_type": "code",
   "execution_count": 27,
   "metadata": {},
   "outputs": [
    {
     "name": "stdout",
     "output_type": "stream",
     "text": [
      "Dictionary(5391 unique tokens: ['What', 'crude', 'example', 'make', 'oil']...)\n",
      "5011\n",
      "[(28, 1), (202, 1), (366, 1), (367, 1), (368, 1), (369, 1), (370, 1), (371, 1)]\n",
      "used: 182.01s\n"
     ]
    }
   ],
   "source": [
    "# Importing Gensim\n",
    "import gensim\n",
    "from gensim import corpora\n",
    "\n",
    "# Creating the term dictionary of our courpus, where every unique term is assigned an index. dictionary = corpora.Dictionary(doc_clean)\n",
    "dictionary = corpora.Dictionary(text_list)\n",
    "dictionary.save('dictionary.dict')\n",
    "print (dictionary)\n",
    "\n",
    "# Converting list of documents (corpus) into Document Term Matrix using dictionary prepared above.\n",
    "doc_term_matrix = [dictionary.doc2bow(doc) for doc in text_list]\n",
    "corpora.MmCorpus.serialize('corpus.mm', doc_term_matrix)\n",
    "\n",
    "print (len(doc_term_matrix))\n",
    "print (doc_term_matrix[100])\n",
    "\n",
    "start = time()\n",
    "# Creating the object for LDA model using gensim library\n",
    "Lda = gensim.models.ldamodel.LdaModel\n",
    "\n",
    "# Running and Training LDA model on the document term matrix.\n",
    "ldamodel = Lda(doc_term_matrix, num_topics=10, id2word = dictionary, passes=50, alpha = 0.5)\n",
    "print ('used: {:.2f}s'.format(time()-start))"
   ]
  },
  {
   "cell_type": "code",
   "execution_count": 28,
   "metadata": {},
   "outputs": [
    {
     "name": "stdout",
     "output_type": "stream",
     "text": [
      "0\n",
      "0.243*\"bad\" + 0.127*\"Is\" + 0.019*\"evil\" + 0.019*\"Does\" + 0.018*\"you\" + 0.013*\"The\" + 0.013*\"health\" + 0.012*\"Olympics\" + 0.012*\"day\" + 0.010*\"annoying\"\n",
      "1\n",
      "0.070*\"get\" + 0.059*\"rank\" + 0.049*\"I\" + 0.018*\"2016\" + 0.017*\"If\" + 0.017*\"sick\" + 0.016*\"really\" + 0.014*\"rid\" + 0.012*\"college\" + 0.011*\"Where\"\n",
      "2\n",
      "0.134*\"I\" + 0.028*\"make\" + 0.026*\"artificial\" + 0.017*\"do\" + 0.015*\"Im\" + 0.014*\"intelligence\" + 0.014*\"ugly\" + 0.013*\"go\" + 0.012*\"find\" + 0.011*\"know\"\n",
      "3\n",
      "0.039*\"stupid\" + 0.037*\"Quora\" + 0.035*\"chicken\" + 0.026*\"Can\" + 0.022*\"world\" + 0.020*\"question\" + 0.017*\"why\" + 0.015*\"Indian\" + 0.015*\"When\" + 0.015*\"job\"\n",
      "4\n",
      "0.062*\"afraid\" + 0.035*\"Are\" + 0.032*\"would\" + 0.027*\"crazy\" + 0.027*\"painful\" + 0.026*\"way\" + 0.020*\"impossible\" + 0.018*\"cat\" + 0.015*\"dog\" + 0.011*\"death\"\n",
      "5\n",
      "0.186*\"How\" + 0.122*\"I\" + 0.046*\"anger\" + 0.039*\"cold\" + 0.030*\"control\" + 0.023*\"feel\" + 0.020*\"girl\" + 0.019*\"base\" + 0.012*\"me\" + 0.011*\"feeling\"\n",
      "6\n",
      "0.078*\"hate\" + 0.041*\"Do\" + 0.031*\"Trump\" + 0.027*\"What\" + 0.025*\"boring\" + 0.023*\"Donald\" + 0.018*\"president\" + 0.016*\"like\" + 0.013*\"time\" + 0.013*\"men\"\n",
      "7\n",
      "0.099*\"What\" + 0.066*\"thing\" + 0.058*\"worst\" + 0.053*\"dangerous\" + 0.033*\"life\" + 0.032*\"Which\" + 0.030*\"done\" + 0.025*\"could\" + 0.021*\"person\" + 0.019*\"you\"\n",
      "8\n",
      "0.202*\"What\" + 0.116*\"worst\" + 0.047*\"ever\" + 0.023*\"Who\" + 0.016*\"movie\" + 0.015*\"experience\" + 0.014*\"Whats\" + 0.008*\"Bad\" + 0.008*\"made\" + 0.007*\"cause\"\n",
      "9\n",
      "0.310*\"Why\" + 0.098*\"people\" + 0.065*\"hate\" + 0.025*\"India\" + 0.016*\"think\" + 0.010*\"dirty\" + 0.009*\"US\" + 0.009*\"terrible\" + 0.008*\"say\" + 0.007*\"insane\"\n"
     ]
    }
   ],
   "source": [
    "# Results of Topic Modeling with LDA for negative sentiment\n",
    "\n",
    "for i in ldamodel.print_topics(): \n",
    "    for j in i: print (j)"
   ]
  },
  {
   "cell_type": "code",
   "execution_count": 29,
   "metadata": {
    "collapsed": true
   },
   "outputs": [],
   "source": [
    "from IPython.display import IFrame"
   ]
  },
  {
   "cell_type": "markdown",
   "metadata": {},
   "source": [
    "Some of the discovered topics for negative Quora questions are (some of these topics just like in the general sentiment are stronger then others and there are some topics that would be hard to classify into just 1 specific bucket):\n",
    "\n",
    "-people afraid, hate, evil, dangerous\n",
    "\n",
    "-Terrible/Worse things happening\n",
    "\n",
    "-Anger control/sickness management\n",
    "\n",
    "-Dangerous US President Donald Trump\n",
    "\n",
    "-India (mention of India, their President, Muslims, Narendi)\n",
    "\n",
    "-People feeling bad, ugly, annoying about something\n",
    "\n",
    "-Relationships and friendships"
   ]
  },
  {
   "cell_type": "code",
   "execution_count": 30,
   "metadata": {
    "scrolled": false
   },
   "outputs": [
    {
     "data": {
      "text/html": [
       "\n",
       "<link rel=\"stylesheet\" type=\"text/css\" href=\"https://cdn.rawgit.com/bmabey/pyLDAvis/files/ldavis.v1.0.0.css\">\n",
       "\n",
       "\n",
       "<div id=\"ldavis_el59581145040971286583321058\"></div>\n",
       "<script type=\"text/javascript\">\n",
       "\n",
       "var ldavis_el59581145040971286583321058_data = {\"mdsDat\": {\"Freq\": [11.842095452940011, 11.152456577120509, 11.007437074965859, 10.704240246957834, 10.647725664056694, 10.395128640973212, 9.962531945925985, 8.555316303292738, 8.261722531153662, 7.471345562613495], \"cluster\": [1, 1, 1, 1, 1, 1, 1, 1, 1, 1], \"topics\": [1, 2, 3, 4, 5, 6, 7, 8, 9, 10], \"x\": [-124.0877914428711, 36.38438415527344, -41.95823669433594, -56.125160217285156, -42.05162048339844, 44.21611404418945, 98.06656646728516, -127.63955688476562, -49.899200439453125, 20.537458419799805], \"y\": [-35.20533752441406, -81.05774688720703, 118.29326629638672, -115.06047058105469, -37.97030258178711, 85.70845794677734, -4.3300347328186035, 56.90563201904297, 38.86614990234375, 7.180744647979736]}, \"tinfo\": {\"Category\": [\"Default\", \"Default\", \"Default\", \"Default\", \"Default\", \"Default\", \"Default\", \"Default\", \"Default\", \"Default\", \"Default\", \"Default\", \"Default\", \"Default\", \"Default\", \"Default\", \"Default\", \"Default\", \"Default\", \"Default\", \"Default\", \"Default\", \"Default\", \"Default\", \"Default\", \"Default\", \"Default\", \"Default\", \"Default\", \"Default\", \"Topic1\", \"Topic1\", \"Topic1\", \"Topic1\", \"Topic1\", \"Topic1\", \"Topic1\", \"Topic1\", \"Topic1\", \"Topic1\", \"Topic1\", \"Topic1\", \"Topic1\", \"Topic1\", \"Topic1\", \"Topic1\", \"Topic1\", \"Topic1\", \"Topic1\", \"Topic1\", \"Topic1\", \"Topic1\", \"Topic1\", \"Topic1\", \"Topic1\", \"Topic1\", \"Topic1\", \"Topic1\", \"Topic1\", \"Topic1\", \"Topic1\", \"Topic1\", \"Topic1\", \"Topic1\", \"Topic1\", \"Topic1\", \"Topic1\", \"Topic1\", \"Topic2\", \"Topic2\", \"Topic2\", \"Topic2\", \"Topic2\", \"Topic2\", \"Topic2\", \"Topic2\", \"Topic2\", \"Topic2\", \"Topic2\", \"Topic2\", \"Topic2\", \"Topic2\", \"Topic2\", \"Topic2\", \"Topic2\", \"Topic2\", \"Topic2\", \"Topic2\", \"Topic2\", \"Topic2\", \"Topic2\", \"Topic2\", \"Topic2\", \"Topic2\", \"Topic2\", \"Topic2\", \"Topic2\", \"Topic2\", \"Topic2\", \"Topic2\", \"Topic2\", \"Topic2\", \"Topic2\", \"Topic2\", \"Topic2\", \"Topic3\", \"Topic3\", \"Topic3\", \"Topic3\", \"Topic3\", \"Topic3\", \"Topic3\", \"Topic3\", \"Topic3\", \"Topic3\", \"Topic3\", \"Topic3\", \"Topic3\", \"Topic3\", \"Topic3\", \"Topic3\", \"Topic3\", \"Topic3\", \"Topic3\", \"Topic3\", \"Topic3\", \"Topic3\", \"Topic3\", \"Topic3\", \"Topic3\", \"Topic3\", \"Topic3\", \"Topic3\", \"Topic3\", \"Topic3\", \"Topic3\", \"Topic3\", \"Topic3\", \"Topic3\", \"Topic3\", \"Topic3\", \"Topic3\", \"Topic3\", \"Topic3\", \"Topic3\", \"Topic3\", \"Topic3\", \"Topic3\", \"Topic4\", \"Topic4\", \"Topic4\", \"Topic4\", \"Topic4\", \"Topic4\", \"Topic4\", \"Topic4\", \"Topic4\", \"Topic4\", \"Topic4\", \"Topic4\", \"Topic4\", \"Topic4\", \"Topic4\", \"Topic4\", \"Topic4\", \"Topic4\", \"Topic4\", \"Topic4\", \"Topic4\", \"Topic4\", \"Topic4\", \"Topic4\", \"Topic4\", \"Topic4\", \"Topic4\", \"Topic4\", \"Topic4\", \"Topic4\", \"Topic4\", \"Topic4\", \"Topic4\", \"Topic4\", \"Topic4\", \"Topic4\", \"Topic4\", \"Topic4\", \"Topic4\", \"Topic5\", \"Topic5\", \"Topic5\", \"Topic5\", \"Topic5\", \"Topic5\", \"Topic5\", \"Topic5\", \"Topic5\", \"Topic5\", \"Topic5\", \"Topic5\", \"Topic5\", \"Topic5\", \"Topic5\", \"Topic5\", \"Topic5\", \"Topic5\", \"Topic5\", \"Topic5\", \"Topic5\", \"Topic5\", \"Topic5\", \"Topic5\", \"Topic5\", \"Topic5\", \"Topic5\", \"Topic5\", \"Topic5\", \"Topic5\", \"Topic5\", \"Topic5\", \"Topic5\", \"Topic5\", \"Topic5\", \"Topic5\", \"Topic5\", \"Topic5\", \"Topic6\", \"Topic6\", \"Topic6\", \"Topic6\", \"Topic6\", \"Topic6\", \"Topic6\", \"Topic6\", \"Topic6\", \"Topic6\", \"Topic6\", \"Topic6\", \"Topic6\", \"Topic6\", \"Topic6\", \"Topic6\", \"Topic6\", \"Topic6\", \"Topic6\", \"Topic6\", \"Topic6\", \"Topic6\", \"Topic6\", \"Topic6\", \"Topic6\", \"Topic6\", \"Topic6\", \"Topic6\", \"Topic6\", \"Topic6\", \"Topic6\", \"Topic6\", \"Topic6\", \"Topic6\", \"Topic6\", \"Topic6\", \"Topic6\", \"Topic6\", \"Topic7\", \"Topic7\", \"Topic7\", \"Topic7\", \"Topic7\", \"Topic7\", \"Topic7\", \"Topic7\", \"Topic7\", \"Topic7\", \"Topic7\", \"Topic7\", \"Topic7\", \"Topic7\", \"Topic7\", \"Topic7\", \"Topic7\", \"Topic7\", \"Topic7\", \"Topic7\", \"Topic7\", \"Topic7\", \"Topic7\", \"Topic7\", \"Topic7\", \"Topic7\", \"Topic7\", \"Topic7\", \"Topic7\", \"Topic7\", \"Topic7\", \"Topic7\", \"Topic7\", \"Topic7\", \"Topic7\", \"Topic8\", \"Topic8\", \"Topic8\", \"Topic8\", \"Topic8\", \"Topic8\", \"Topic8\", \"Topic8\", \"Topic8\", \"Topic8\", \"Topic8\", \"Topic8\", \"Topic8\", \"Topic8\", \"Topic8\", \"Topic8\", \"Topic8\", \"Topic8\", \"Topic8\", \"Topic8\", \"Topic8\", \"Topic8\", \"Topic8\", \"Topic8\", \"Topic8\", \"Topic8\", \"Topic8\", \"Topic8\", \"Topic8\", \"Topic8\", \"Topic8\", \"Topic8\", \"Topic8\", \"Topic8\", \"Topic8\", \"Topic8\", \"Topic9\", \"Topic9\", \"Topic9\", \"Topic9\", \"Topic9\", \"Topic9\", \"Topic9\", \"Topic9\", \"Topic9\", \"Topic9\", \"Topic9\", \"Topic9\", \"Topic9\", \"Topic9\", \"Topic9\", \"Topic9\", \"Topic9\", \"Topic9\", \"Topic9\", \"Topic9\", \"Topic9\", \"Topic9\", \"Topic9\", \"Topic9\", \"Topic9\", \"Topic9\", \"Topic9\", \"Topic9\", \"Topic9\", \"Topic9\", \"Topic9\", \"Topic9\", \"Topic9\", \"Topic9\", \"Topic10\", \"Topic10\", \"Topic10\", \"Topic10\", \"Topic10\", \"Topic10\", \"Topic10\", \"Topic10\", \"Topic10\", \"Topic10\", \"Topic10\", \"Topic10\", \"Topic10\", \"Topic10\", \"Topic10\", \"Topic10\", \"Topic10\", \"Topic10\", \"Topic10\", \"Topic10\", \"Topic10\", \"Topic10\", \"Topic10\", \"Topic10\", \"Topic10\", \"Topic10\", \"Topic10\", \"Topic10\", \"Topic10\", \"Topic10\", \"Topic10\", \"Topic10\", \"Topic10\", \"Topic10\"], \"Freq\": [1028.0, 825.0, 697.0, 1149.0, 1080.0, 431.0, 604.0, 324.0, 425.0, 221.0, 222.0, 188.0, 178.0, 147.0, 172.0, 166.0, 145.0, 111.0, 101.0, 111.0, 96.0, 111.0, 93.0, 115.0, 103.0, 84.0, 97.0, 85.0, 77.0, 91.0, 696.4091287599542, 171.94298787753422, 144.65752494096876, 110.92133116669096, 86.9823138421345, 73.48077329203548, 70.1780366198503, 44.247100030068616, 40.5793301108418, 36.844612968306315, 36.57571632531754, 36.4382784772786, 35.939256432694194, 35.09354715434566, 28.02547471708451, 27.73614410978331, 21.10638239107289, 17.873161384055233, 17.87312993374676, 16.858279149176386, 13.673611303107498, 12.177964801334086, 11.906550386427897, 11.54401918614944, 11.178895082661093, 9.865857808094567, 9.669966067274764, 9.503312629901231, 15.226593464471526, 8.931319754315371, 28.047977412798893, 14.862886372103947, 458.6829563910533, 28.047827150213955, 24.13101097436463, 24.419555323953933, 19.582723274264083, 22.62275202527277, 166.09573471399, 82.9174921512904, 51.2479277195418, 28.36743125255002, 27.187743959545305, 25.292928127576367, 23.885044732906767, 21.569461485616745, 20.721482928884882, 18.48143739606723, 17.827624629646547, 17.359095316092663, 16.23904046269233, 56.510345711794855, 15.76816468504143, 15.027628185262326, 14.922690559134011, 13.80026044561864, 13.52573484193165, 12.392303004045559, 23.46395809315734, 11.937311932678348, 11.84578008705381, 11.573688158261271, 11.390647503826612, 10.919741284670948, 10.908752724194182, 10.908743674017089, 10.270734985029637, 10.268233845178681, 408.3158459982321, 712.7331315094945, 23.16892396543588, 49.902090693530106, 13.982543353407664, 22.912101330884752, 11.689347776013816, 97.20749573216357, 90.35429770703585, 57.588310492307826, 50.90835738217828, 50.525725056134526, 49.68148740985266, 43.93231319901039, 42.48292342492114, 39.46757320197411, 36.324442835950876, 35.20021859181742, 34.40278071933361, 31.156838967951103, 24.68091702046396, 21.935160844267266, 19.389390222837804, 19.09201124652968, 18.709297715992246, 18.047802662289445, 17.138268482638917, 17.13559035843733, 16.3060734627699, 15.614008165376058, 14.687182300841162, 14.504551770463374, 14.175075905983013, 13.660323868720747, 13.030813640988903, 12.236048208392134, 12.0387188526132, 17.647980969023358, 27.838196457466125, 22.168867377080346, 466.71686377185796, 22.107900667314745, 27.278057604595837, 21.56758870362154, 18.958944690914848, 18.20007732883951, 23.082455285055413, 19.26523342426962, 24.964630904575493, 18.239519975510103, 824.4820654400529, 430.8806281905829, 65.46357270928605, 63.82808135898622, 45.63371863139419, 44.33783277740574, 40.36995978694894, 29.646001952443868, 23.585763444753344, 21.367831326964172, 21.270876317323292, 17.040034441150077, 16.837436391308533, 16.743122062833976, 16.72924585187265, 16.46258601407148, 16.46258601407148, 14.744052190251672, 13.853289785627137, 13.386532016576703, 13.261887759203754, 12.684496978574064, 12.620408341583442, 12.604003583644074, 12.323431209721994, 11.82644932854239, 11.729609611799322, 11.651572113528205, 10.763361946203181, 10.574701702158778, 28.071009365754833, 39.8859791541911, 20.770975788538802, 33.985418151260745, 62.4164351181754, 26.777647320680124, 19.544009817765723, 18.818326311196117, 14.876883822724041, 221.444555262583, 177.52845266992622, 110.63352149254862, 102.71664861369982, 85.62911242511571, 69.35736731380872, 62.279831905034385, 49.907343047891885, 47.34329671708219, 42.503042525942014, 41.124164632598244, 35.16444819109889, 22.121848601228034, 19.668879409218906, 17.968489881316795, 15.997007346027738, 12.729264309817031, 12.518793680683595, 12.133999151711995, 12.025608450840672, 11.655059897975706, 108.20665316589411, 10.852068676270791, 10.660913692950222, 10.356285770921433, 10.276256627907749, 9.570019589096452, 9.364663403634736, 9.16840261723228, 8.994264097321395, 50.813030821769566, 59.78150118742943, 64.34065971019116, 332.342975245118, 194.7737251823977, 44.02666129606749, 15.601588819104977, 12.586798264685351, 324.21032831550986, 1022.4715034872769, 52.73005487011579, 30.309941183190315, 29.189818170220025, 22.06141628518628, 21.71529100728536, 19.97389618036847, 18.50747150859676, 15.867449736063943, 15.187742162908116, 15.187703819234093, 13.339481982745493, 33.7175987083988, 12.75515813308631, 11.37910259912267, 10.890269068373911, 10.415582819592238, 9.530850087694853, 8.567178467215296, 8.1877923527209, 7.792106342399833, 6.9072861869256785, 6.890720186001297, 6.718985771918952, 6.606957826402922, 6.606871936573113, 6.418538929443469, 6.134680327223299, 6.022684973830187, 83.49471828477158, 212.6606664517582, 27.474987840665445, 14.580290942825938, 8.618876476025415, 18.28925459224474, 11.710671084617953, 9.663575181574373, 220.64675841838553, 187.76755028293155, 58.35999353730775, 54.475883926757696, 54.107039947143704, 43.945238964949105, 37.56464734323722, 34.41541520568396, 34.33043621509923, 33.25972327650925, 51.85050760772909, 24.220599829790256, 21.482730565534897, 21.29222604851833, 21.27708734679495, 21.08922721509738, 20.547748530764242, 20.221432264351613, 19.09855481981354, 16.869324766621872, 16.222167684220885, 16.049428615211774, 14.908785722666245, 14.690826047790729, 14.179393989530764, 13.958691444724593, 13.85589849878637, 12.887924119110258, 12.579468845477587, 11.968033748636518, 22.99091508894921, 154.25551237119348, 21.93007266031869, 14.096684554772905, 14.061948885249143, 110.88849689273289, 84.79803688498454, 68.92407557550597, 62.841604211005354, 48.66287615495372, 35.886693647022845, 35.672502847923454, 35.618900869581616, 32.977160489552915, 31.661309173546833, 31.10547897546905, 25.144485568478444, 23.005011276953354, 29.095003378712843, 19.928945164494248, 19.37310865495519, 19.37306826160301, 17.596905664792725, 17.379857036026653, 16.24928750188219, 15.275073060269989, 14.50497380097297, 14.287888565731489, 13.965083829498917, 13.732033121808595, 13.157223097375597, 12.617347011116355, 12.186041944053606, 11.84440633195198, 10.624183752645713, 211.68499749695044, 20.982836755572237, 42.10288467932829, 18.72347247019468, 71.8942795479491, 22.618308044450007, 100.80539761721215, 96.14839023616918, 92.35866824785757, 57.830273249116786, 53.249129935636475, 43.6327608558205, 38.9097752865762, 38.56321853266845, 31.667048505512412, 29.326289250120507, 25.415106251781264, 24.420082132781694, 23.105791650397435, 21.791593810039252, 21.699961094459507, 21.561068755841568, 20.901096713880147, 18.306995648447668, 18.16522409317726, 15.125881793509395, 14.895364053155875, 14.576172047186851, 12.939709167336835, 11.695597457651948, 11.395028936871924, 11.057161029830729, 10.507389115832794, 10.504528183790734, 10.400026759404843, 14.822171976661032, 67.23149341311537, 19.09702124835512, 40.26573273916142, 17.5343916253383, 146.76435909292573, 83.47477441344353, 76.47638830627702, 64.92016622371494, 63.78377178519481, 61.34641408228431, 48.02912653996645, 43.568721376864666, 35.89095201462193, 26.34411035737132, 25.17414029791477, 20.407614718779165, 20.404479612536367, 18.96950488692078, 17.359286100253797, 16.07810795782045, 14.905189090628499, 14.356855260745712, 13.392447415292636, 12.82430751865023, 12.350530571898751, 12.219525241026588, 10.935247267807467, 10.007565582546048, 9.66479176195067, 9.439279072285395, 9.419527021069339, 8.740168569048832, 8.38063229221998, 7.795652774281866, 14.152468160404275, 23.537852948508792, 12.557929314383411, 9.60903228797977], \"Term\": [\"Why\", \"bad\", \"How\", \"What\", \"I\", \"Is\", \"worst\", \"people\", \"hate\", \"get\", \"thing\", \"rank\", \"dangerous\", \"afraid\", \"anger\", \"ever\", \"cold\", \"Do\", \"stupid\", \"life\", \"Quora\", \"control\", \"chicken\", \"Which\", \"done\", \"Are\", \"make\", \"Trump\", \"would\", \"artificial\", \"How\", \"anger\", \"cold\", \"control\", \"feel\", \"girl\", \"base\", \"me\", \"feeling\", \"stop\", \"habit\", \"tell\", \"woman\", \"deal\", \"water\", \"overcome\", \"relationship\", \"manage\", \"help\", \"reduce\", \"acid\", \"body\", \"Apple\", \"talk\", \"be\", \"situation\", \"sore\", \"emotion\", \"used\", \"Game\", \"friend\", \"drink\", \"I\", \"it\", \"without\", \"someone\", \"annoying\", \"like\", \"ever\", \"Who\", \"experience\", \"Bad\", \"made\", \"cause\", \"Breaking\", \"teacher\", \"work\", \"1\", \"hotel\", \"hair\", \"food\", \"movie\", \"advice\", \"story\", \"game\", \"moment\", \"mistake\", \"video\", \"mean\", \"had\", \"given\", \"shower\", \"performing\", \"song\", \"happens\", \"drinking\", \"season\", \"money\", \"worst\", \"What\", \"sex\", \"Whats\", \"casual\", \"India\", \"still\", \"make\", \"artificial\", \"do\", \"Im\", \"intelligence\", \"ugly\", \"go\", \"find\", \"know\", \"awkward\", \"Should\", \"want\", \"something\", \"badly\", \"weight\", \"girlfriend\", \"system\", \"boyfriend\", \"lose\", \"crime\", \"increase\", \"mad\", \"frustrated\", \"shy\", \"socially\", \"watch\", \"learning\", \"man\", \"idiot\", \"app\", \"take\", \"cant\", \"even\", \"I\", \"anyone\", \"difference\", \"parent\", \"start\", \"need\", \"like\", \"it\", \"What\", \"My\", \"bad\", \"Is\", \"evil\", \"Does\", \"The\", \"health\", \"Olympics\", \"Clinton\", \"example\", \"oil\", \"eating\", \"Temple\", \"crude\", \"Pokemon\", \"smoking\", \"Ranger\", \"Sea\", \"nicotine\", \"Manaphy\", \"taste\", \"product\", \"milk\", \"vaping\", \"failing\", \"gone\", \"design\", \"Rio\", \"die\", \"air\", \"egg\", \"Hillary\", \"day\", \"every\", \"annoying\", \"you\", \"guy\", \"In\", \"without\", \"eat\", \"thing\", \"dangerous\", \"life\", \"done\", \"could\", \"person\", \"them\", \"happen\", \"improve\", \"particularly\", \"intersection\", \"happened\", \"boy\", \"Artificial\", \"solution\", \"country\", \"never\", \"said\", \"use\", \"memory\", \"Rank\", \"Which\", \"hisher\", \"avoid\", \"police\", \"issue\", \"met\", \"Mains\", \"class\", \"Neural\", \"one\", \"someone\", \"you\", \"What\", \"worst\", \"Whats\", \"day\", \"parent\", \"people\", \"Why\", \"think\", \"US\", \"terrible\", \"insane\", \"smell\", \"Did\", \"Would\", \"war\", \"China\", \"desperate\", \"government\", \"dirty\", \"others\", \"using\", \"him\", \"Jews\", \"fucked\", \"Facebook\", \"started\", \"Germans\", \"wear\", \"look\", \"brutal\", \"tragic\", \"out\", \"saying\", \"unpleasant\", \"PinscherChihuahua\", \"India\", \"hate\", \"say\", \"not\", \"wife\", \"like\", \"guy\", \"In\", \"get\", \"rank\", \"2016\", \"If\", \"sick\", \"rid\", \"college\", \"Where\", \"getting\", \"mark\", \"really\", \"got\", \"car\", \"GATE\", \"engineering\", \"idea\", \"expect\", \"JEE\", \"sleep\", \"month\", \"porn\", \"much\", \"A\", \"IIT\", \"u\", \"leave\", \"dream\", \"kid\", \"call\", \"actually\", \"always\", \"I\", \"My\", \"effect\", \"Can\", \"Do\", \"Trump\", \"boring\", \"Donald\", \"president\", \"time\", \"men\", \"Modi\", \"Muslims\", \"War\", \"Cold\", \"cutting\", \"Narendra\", \"everyone\", \"school\", \"human\", \"study\", \"student\", \"America\", \"fact\", \"hated\", \"end\", \"President\", \"becomes\", \"cruel\", \"10\", \"now\", \"myself\", \"Obama\", \"PM\", \"hate\", \"history\", \"like\", \"become\", \"What\", \"Indian\", \"stupid\", \"Quora\", \"chicken\", \"world\", \"question\", \"why\", \"When\", \"job\", \"Bollywood\", \"considered\", \"service\", \"company\", \"horrible\", \"actor\", \"seen\", \"answer\", \"Indians\", \"unhappy\", \"asked\", \"face\", \"up\", \"ask\", \"heard\", \"working\", \"religion\", \"Khan\", \"computer\", \"customer\", \"software\", \"medium\", \"Can\", \"violent\", \"Indian\", \"eat\", \"afraid\", \"Are\", \"would\", \"crazy\", \"painful\", \"way\", \"impossible\", \"cat\", \"dog\", \"death\", \"reason\", \"fake\", \"Was\", \"mix\", \"math\", \"this\", \"believe\", \"Impossible\", \"Americans\", \"god\", \"side\", \"puppy\", \"buy\", \"nose\", \"treated\", \"dad\", \"Base\", \"fastest\", \"Star\", \"truth\", \"making\", \"real\", \"year\", \"effect\"], \"Total\": [1028.0, 825.0, 697.0, 1149.0, 1080.0, 431.0, 604.0, 324.0, 425.0, 221.0, 222.0, 188.0, 178.0, 147.0, 172.0, 166.0, 145.0, 111.0, 101.0, 111.0, 96.0, 111.0, 93.0, 115.0, 103.0, 84.0, 97.0, 85.0, 77.0, 91.0, 697.1919880770607, 172.72578062945362, 145.44039197793245, 111.7041221054354, 87.76517790298614, 74.26365692905479, 71.09117330477923, 45.02995749146633, 41.36216849586566, 37.62744562910201, 37.358547853575075, 37.22110956961225, 36.722129057697465, 35.87635662619844, 28.808632319079, 28.51894684528022, 21.88924562444767, 18.655967774740216, 18.65597000526589, 17.64106303715373, 14.456416669975871, 12.960839180701804, 12.689488799154658, 12.326860515527873, 11.961789967762916, 10.64874414570549, 10.452803615200216, 10.28611300257245, 16.52428964635877, 9.714165602783657, 34.71821859382365, 17.23988918450141, 1080.2639245836483, 48.010008602819894, 43.651159532304845, 86.64573352262077, 54.26994617502295, 106.61899862513937, 166.8783537768376, 83.70018587485652, 52.030522104409485, 29.15004854723199, 27.970353232795354, 26.07558747772936, 24.667653690564915, 22.352075002522714, 21.5041457360834, 19.264189475930465, 18.61021257048669, 18.141728292378588, 17.02176018263958, 59.261056412610145, 16.55079441641782, 15.810258610183872, 15.70532602538136, 14.582875759211367, 14.308366586455765, 13.17495398373502, 25.00084482905926, 12.71988802284169, 12.628387812214575, 12.356341451953588, 12.17333128778467, 11.70238238529903, 11.691413083581086, 11.691412176115588, 11.053346826585328, 11.050887534410776, 604.4938378762612, 1149.2080102937728, 28.958380464370347, 94.62820509409303, 17.354271875390662, 116.23364613499183, 17.86982615953893, 97.98284661937191, 91.12957983888239, 58.363606406149025, 51.6837017822877, 51.30099794552984, 50.45679892034885, 44.70765701985939, 43.258262157343744, 40.24293709017263, 37.0997482190003, 35.97556276476892, 35.17808926850026, 31.93219117200833, 25.45624793302893, 22.710452005415835, 20.164695087169555, 19.867328743190505, 19.48462077953466, 18.823087016205324, 17.913615229172834, 17.910922450423588, 17.0814028568506, 16.389340562939825, 15.462489542698544, 15.279824157532017, 14.950402131985536, 14.43562426552279, 13.806143292878048, 13.0113706217093, 12.814020210969478, 19.093169059254308, 31.168957358689166, 25.591393113663035, 1080.2639245836483, 26.741536225188025, 42.80020885033484, 34.84653123058858, 27.0009519504204, 28.908729862399234, 106.61899862513937, 48.010008602819894, 1149.2080102937728, 40.85655936275975, 825.4642975520139, 431.6648170597322, 66.24378235589441, 64.60832483344706, 46.41389405616484, 45.11798652143721, 41.15011315944377, 30.426178087890733, 24.36598979425498, 22.14797410843511, 22.051080591459247, 17.820159549396532, 17.617594948089188, 17.52323658371035, 17.50938602694506, 17.242701369671185, 17.242701369671185, 15.524180662346945, 14.63340564928836, 14.166698549563277, 14.0421086824181, 13.464643234578785, 13.400523436596782, 13.384132855609648, 13.103601143383939, 12.606655270891228, 12.50975578189472, 12.431792489467899, 11.543555710875234, 11.35483852037656, 35.857149668634364, 56.184608116007695, 26.674583288052805, 54.26994617502295, 127.45408288319187, 50.96665307794682, 32.376878197413994, 43.651159532304845, 33.0992209801072, 222.22259303639254, 178.30652696420145, 111.41158256220317, 103.49466048348235, 86.40715100027306, 70.13546923093952, 63.05787349785907, 50.68538090478181, 48.12129804286891, 43.281034525716436, 41.90215146270303, 35.94247914177593, 22.8999842860464, 20.446946260047987, 18.74653779473986, 16.77506431409399, 13.507331527654529, 13.296847194857264, 12.912126823566123, 12.803683491729936, 12.433177536646108, 115.51243973356016, 11.630080671871562, 11.439024546348593, 11.13430771833502, 11.054293234987016, 10.348039440650188, 10.142774434389576, 9.946500076324877, 9.772254852974436, 58.016958340787106, 86.64573352262077, 127.45408288319187, 1149.2080102937728, 604.4938378762612, 94.62820509409303, 56.184608116007695, 34.84653123058858, 324.9895540710473, 1028.2014655514313, 53.509332849505846, 31.089337586945167, 29.96907550323218, 22.84066705910758, 22.494514362015757, 20.75315592705774, 19.286767350599966, 16.646695665396543, 15.966954804300034, 15.966956035939088, 14.118674902032096, 35.773018348365156, 13.534414238025162, 12.158348347757508, 11.669555597420366, 11.194765877404759, 10.310071699254815, 9.346492765681576, 8.967189854197857, 8.571279016751427, 7.68659186393875, 7.670005894940208, 7.498211515740077, 7.386160264451939, 7.3861643073274985, 7.197787025169532, 6.9139452854328, 6.801896732059427, 116.23364613499183, 425.03162502870725, 43.88312827340634, 29.080022134064258, 11.94739312271004, 106.61899862513937, 50.96665307794682, 32.376878197413994, 221.41965832185042, 188.5404343140129, 59.13289494905723, 55.24882833280333, 54.879972531003375, 44.71812262926398, 38.33752534656561, 35.18833481130437, 35.1033649451814, 34.032585921609545, 53.263600370371925, 24.993527278062164, 22.255637618253704, 22.065076898429357, 22.049988015126026, 21.86218931791516, 21.32064442901174, 20.994298321378796, 19.87150275845173, 17.642210069264625, 16.995064504784743, 16.82236554484296, 15.68171856836238, 15.463731517383344, 14.952367914387992, 14.731622861975593, 14.62879183015525, 13.66083922758562, 13.352361350882788, 12.74093445631362, 27.32843417693337, 1080.2639245836483, 40.85655936275975, 24.380480510451726, 81.97411187509888, 111.65648954383767, 85.56597488327249, 69.69206191566803, 63.60953750022781, 49.43081342306756, 36.65468669050207, 36.440475863997314, 36.386829024890964, 33.745078388576474, 32.42925397320336, 31.873402147149793, 25.912468286621994, 23.77292363724951, 30.160961237549134, 20.696907072742793, 20.14105394076353, 20.141047928734707, 18.364921846058827, 18.14778980532566, 17.01722670090688, 16.04303547980178, 15.27296553260341, 15.055834065193302, 14.73304968872192, 14.499981082254715, 13.92526371176903, 13.385350223585924, 12.95400269696768, 12.612362527433786, 11.392094106175533, 425.03162502870725, 26.416482475637018, 106.61899862513937, 32.05978377940081, 1149.2080102937728, 63.5597758429889, 101.57439597327334, 96.9173674228617, 93.12764937895251, 58.59928519477632, 54.01808866386332, 44.4017727421315, 39.67880291742976, 39.332238712567865, 32.436026383536586, 30.095262327270365, 26.18406708916832, 25.18905687363957, 23.874814750376146, 22.56057647730164, 22.468955543418787, 22.3300674867569, 21.670057086519492, 19.07598305937173, 18.934197404030982, 15.894868991899251, 15.664357981536927, 15.345125975127408, 13.708750529694578, 12.464590880046778, 12.164009596155585, 11.82612297686022, 11.276376607956553, 11.273489478609415, 11.16900304229559, 15.926076337684728, 81.97411187509888, 23.18814250834022, 63.5597758429889, 33.0992209801072, 147.52741881291686, 84.23784659330829, 77.23950758761295, 65.68324318906501, 64.54684962208816, 62.109515627242274, 48.79219948332441, 44.33176496059335, 36.654035393655455, 27.107178502423945, 25.937243771572103, 21.17066474769781, 21.167582200144057, 19.732538490500183, 18.12235609658061, 16.841239531736345, 15.668243877503066, 15.119896275251874, 14.155545161766845, 13.587356525575121, 13.113570699664777, 12.982549256499711, 11.698350726566185, 10.770629259368095, 10.427866068820373, 10.202420073432066, 10.182590714686365, 9.503218444939268, 9.143686983908971, 8.558717414716009, 17.583716668725657, 33.345650024107634, 23.130540720118233, 24.380480510451726], \"loglift\": [30.0, 29.0, 28.0, 27.0, 26.0, 25.0, 24.0, 23.0, 22.0, 21.0, 20.0, 19.0, 18.0, 17.0, 16.0, 15.0, 14.0, 13.0, 12.0, 11.0, 10.0, 9.0, 8.0, 7.0, 6.0, 5.0, 4.0, 3.0, 2.0, 1.0, 2.1324, 2.129, 2.1281, 2.1265, 2.1245, 2.1229, 2.1206, 2.116, 2.1144, 2.1125, 2.1123, 2.1123, 2.112, 2.1114, 2.1059, 2.1057, 2.0971, 2.0906, 2.0906, 2.0881, 2.0778, 2.0712, 2.0698, 2.0679, 2.0658, 2.0571, 2.0557, 2.0544, 2.0517, 2.0495, 1.9202, 1.9852, 1.2769, 1.596, 1.5408, 0.8671, 1.1142, 0.5832, 2.1888, 2.1841, 2.1784, 2.1663, 2.1651, 2.163, 2.1613, 2.1579, 2.1564, 2.152, 2.1505, 2.1494, 2.1464, 2.146, 2.1451, 2.1427, 2.1424, 2.1383, 2.1373, 2.1323, 2.1301, 2.13, 2.1295, 2.1281, 2.1271, 2.1243, 2.1242, 2.1242, 2.1201, 2.1201, 1.8012, 1.7158, 1.9705, 1.5536, 1.9775, 0.5696, 1.7691, 2.1987, 2.1981, 2.1932, 2.1915, 2.1914, 2.1911, 2.1891, 2.1885, 2.1871, 2.1855, 2.1848, 2.1843, 2.182, 2.1757, 2.1719, 2.1674, 2.1668, 2.166, 2.1645, 2.1624, 2.1623, 2.1601, 2.1581, 2.1552, 2.1545, 2.1533, 2.1514, 2.1488, 2.1452, 2.1442, 2.1279, 2.0936, 2.063, 1.3674, 2.0163, 1.7561, 1.7268, 1.853, 1.7439, 0.6764, 1.2935, -1.6228, 1.4001, 2.2333, 2.2327, 2.2227, 2.2224, 2.2176, 2.2171, 2.2154, 2.2086, 2.202, 2.1987, 2.1985, 2.1898, 2.1892, 2.189, 2.189, 2.1882, 2.1882, 2.183, 2.1797, 2.1779, 2.1774, 2.1748, 2.1746, 2.1745, 2.1731, 2.1706, 2.1701, 2.1697, 2.1646, 2.1634, 1.9897, 1.8919, 1.9844, 1.7665, 1.5206, 1.5909, 1.7298, 1.3931, 1.4348, 2.2363, 2.2355, 2.2328, 2.2323, 2.2308, 2.2287, 2.2274, 2.2244, 2.2235, 2.2217, 2.2211, 2.2179, 2.2053, 2.201, 2.1974, 2.1923, 2.1805, 2.1795, 2.1777, 2.1771, 2.1752, 2.1745, 2.1706, 2.1694, 2.1674, 2.1668, 2.1617, 2.16, 2.1584, 2.1569, 2.1072, 1.8687, 1.5563, 0.9992, 1.1073, 1.4747, 0.9586, 1.2215, 2.2614, 2.2582, 2.2492, 2.2384, 2.2375, 2.2291, 2.2286, 2.2256, 2.2226, 2.2159, 2.2138, 2.2138, 2.2071, 2.2047, 2.2045, 2.1976, 2.1947, 2.1917, 2.1852, 2.1768, 2.1729, 2.1685, 2.1569, 2.1567, 2.1541, 2.1523, 2.1523, 2.1492, 2.1443, 2.1422, 1.933, 1.5714, 1.7956, 1.5735, 1.9373, 0.5009, 0.7932, 1.0548, 2.3028, 2.3022, 2.2932, 2.2922, 2.2922, 2.2889, 2.286, 2.2841, 2.2841, 2.2834, 2.2795, 2.2749, 2.271, 2.2707, 2.2707, 2.2703, 2.2694, 2.2688, 2.2667, 2.2615, 2.2598, 2.2593, 2.2558, 2.2551, 2.2533, 2.2524, 2.2521, 2.2481, 2.2467, 2.2438, 2.1335, 0.36, 1.6841, 1.7585, 0.5434, 2.4517, 2.4496, 2.4475, 2.4465, 2.443, 2.4374, 2.4373, 2.4373, 2.4356, 2.4347, 2.4342, 2.4285, 2.4258, 2.4226, 2.4208, 2.4197, 2.4197, 2.4159, 2.4154, 2.4124, 2.4096, 2.407, 2.4063, 2.4051, 2.4042, 2.4019, 2.3995, 2.3975, 2.3958, 2.3888, 1.7616, 2.2283, 1.5295, 1.9208, -0.313, 1.4254, 2.4859, 2.4856, 2.4852, 2.4803, 2.4792, 2.4761, 2.474, 2.4738, 2.4695, 2.4677, 2.4637, 2.4625, 2.4608, 2.4589, 2.4587, 2.4585, 2.4574, 2.4524, 2.4521, 2.4439, 2.4432, 2.4421, 2.4358, 2.4299, 2.4282, 2.4263, 2.4229, 2.4229, 2.4222, 2.4217, 2.2953, 2.2994, 2.0371, 1.8582, 2.5889, 2.585, 2.5842, 2.5824, 2.5822, 2.5817, 2.5783, 2.5767, 2.5731, 2.5655, 2.5642, 2.5574, 2.5574, 2.5547, 2.5511, 2.5477, 2.5442, 2.5423, 2.5387, 2.5363, 2.5341, 2.5335, 2.5266, 2.5206, 2.5181, 2.5163, 2.5162, 2.5104, 2.507, 2.5007, 2.377, 2.2458, 1.9833, 1.663], \"logprob\": [30.0, 29.0, 28.0, 27.0, 26.0, 25.0, 24.0, 23.0, 22.0, 21.0, 20.0, 19.0, 18.0, 17.0, 16.0, 15.0, 14.0, 13.0, 12.0, 11.0, 10.0, 9.0, 8.0, 7.0, 6.0, 5.0, 4.0, 3.0, 2.0, 1.0, -1.6842000484466553, -3.082900047302246, -3.25570011138916, -3.5213000774383545, -3.764400005340576, -3.9330999851226807, -3.979099988937378, -4.440299987792969, -4.526800155639648, -4.6234002113342285, -4.63070011138916, -4.634500026702881, -4.6483001708984375, -4.672100067138672, -4.896999835968018, -4.907400131225586, -5.180500030517578, -5.346799850463867, -5.346799850463867, -5.405200004577637, -5.61460018157959, -5.730500221252441, -5.752999782562256, -5.783899784088135, -5.816100120544434, -5.940999984741211, -5.961100101470947, -5.978400230407715, -5.506999969482422, -6.040500164031982, -4.896200180053711, -5.531199932098389, -2.1017000675201416, -4.896200180053711, -5.046599864959717, -5.0346999168396, -5.25540018081665, -5.111100196838379, -3.057499885559082, -3.75219988822937, -4.233399868011475, -4.82480001449585, -4.867300033569336, -4.939599990844727, -4.996799945831299, -5.098800182342529, -5.138899803161621, -5.253300189971924, -5.289299964904785, -5.315999984741211, -5.382699966430664, -4.135700225830078, -5.412099838256836, -5.46019983291626, -5.467199802398682, -5.545400142669678, -5.565499782562256, -5.6529998779296875, -5.014599800109863, -5.690400123596191, -5.6981000900268555, -5.721399784088135, -5.737299919128418, -5.7795000076293945, -5.7804999351501465, -5.7804999351501465, -5.840799808502197, -5.841000080108643, -2.1579999923706055, -1.6009999513626099, -5.027299880981445, -4.260000228881836, -5.532299995422363, -5.038400173187256, -5.711400032043457, -3.580199956893921, -3.6533000469207764, -4.103700160980225, -4.2270002365112305, -4.234499931335449, -4.251399993896484, -4.374300003051758, -4.407899856567383, -4.481500148773193, -4.564499855041504, -4.595900058746338, -4.618899822235107, -4.7179999351501465, -4.951000213623047, -5.068900108337402, -5.192299842834473, -5.207699775695801, -5.228000164031982, -5.263999938964844, -5.315700054168701, -5.315800189971924, -5.365499973297119, -5.40880012512207, -5.46999979019165, -5.482500076293945, -5.505499839782715, -5.542500019073486, -5.589700222015381, -5.652599811553955, -5.668900012969971, -5.286399841308594, -4.830599784851074, -5.058300018310547, -2.0113000869750977, -5.061100006103516, -4.850900173187256, -5.0858001708984375, -5.214700222015381, -5.2555999755859375, -5.017899990081787, -5.198699951171875, -4.939499855041504, -5.253399848937988, -1.4142999649047852, -2.063199996948242, -3.9475998878479004, -3.972899913787842, -4.3084001541137695, -4.337200164794922, -4.431000232696533, -4.739699840545654, -4.968400001525879, -5.067200183868408, -5.071700096130371, -5.293499946594238, -5.305500030517578, -5.311100006103516, -5.3119001388549805, -5.328000068664551, -5.328000068664551, -5.438199996948242, -5.500500202178955, -5.534800052642822, -5.5441999435424805, -5.588699817657471, -5.593800067901611, -5.595099925994873, -5.617599964141846, -5.658699989318848, -5.666999816894531, -5.673600196838379, -5.752900123596191, -5.770599842071533, -4.794300079345703, -4.442999839782715, -5.0954999923706055, -4.603099822998047, -3.9951999187469482, -4.8414998054504395, -5.156400203704834, -5.194200038909912, -5.429299831390381, -2.723599910736084, -2.9446001052856445, -3.41759991645813, -3.49180006980896, -3.6737000942230225, -3.884500026702881, -3.9921000003814697, -4.213600158691406, -4.266300201416016, -4.374199867248535, -4.407199859619141, -4.563700199127197, -5.027200222015381, -5.144700050354004, -5.235199928283691, -5.351399898529053, -5.579899787902832, -5.596499919891357, -5.627799987792969, -5.63670015335083, -5.668000221252441, -3.43969988822937, -5.7393999099731445, -5.757199764251709, -5.786200046539307, -5.793900012969971, -5.865099906921387, -5.8867998123168945, -5.9079999923706055, -5.927199840545654, -4.1956000328063965, -4.033100128173828, -3.9595999717712402, -2.3176000118255615, -2.851900100708008, -4.339000225067139, -5.376399993896484, -5.591100215911865, -2.3183999061584473, -1.169800043106079, -4.1346001625061035, -4.688300132751465, -4.725900173187256, -5.005899906158447, -5.021699905395508, -5.105299949645996, -5.181600093841553, -5.3354997634887695, -5.379300117492676, -5.379300117492676, -5.508999824523926, -4.581699848175049, -5.553800106048584, -5.668000221252441, -5.711900234222412, -5.756499767303467, -5.845200061798096, -5.9517998695373535, -5.997099876403809, -6.0467000007629395, -6.167200088500977, -6.169600009918213, -6.194799900054932, -6.211599826812744, -6.211699962615967, -6.240600109100342, -6.285799980163574, -6.304200172424316, -3.674999952316284, -2.7400999069213867, -4.786499977111816, -5.420100212097168, -5.945799827575684, -5.19350004196167, -5.6392998695373535, -5.831399917602539, -2.6607000827789307, -2.8220999240875244, -3.990600109100342, -4.059500217437744, -4.066299915313721, -4.2743000984191895, -4.43120002746582, -4.518799781799316, -4.521200180053711, -4.5528998374938965, -4.10890007019043, -4.870100021362305, -4.989999771118164, -4.998899936676025, -4.999599933624268, -5.008500099182129, -5.0345001220703125, -5.05049991607666, -5.107600212097168, -5.231800079345703, -5.270899772644043, -5.281599998474121, -5.355299949645996, -5.369999885559082, -5.4054999351501465, -5.421199798583984, -5.428500175476074, -5.500999927520752, -5.525199890136719, -5.574999809265137, -4.9222002029418945, -3.0185999870300293, -4.969399929046631, -5.411300182342529, -5.41379976272583, -3.196500062942505, -3.4646999835968018, -3.671999931335449, -3.764400005340576, -4.020100116729736, -4.3246002197265625, -4.330599784851074, -4.332099914550781, -4.409200191497803, -4.449900150299072, -4.467599868774414, -4.680300235748291, -4.7692999839782715, -4.53439998626709, -4.912799835205078, -4.941100120544434, -4.941100120544434, -5.037300109863281, -5.049699783325195, -5.1168999671936035, -5.178800106048584, -5.230500221252441, -5.24560022354126, -5.268400192260742, -5.285200119018555, -5.328000068664551, -5.369900226593018, -5.404699802398682, -5.43310022354126, -5.541800022125244, -2.5499000549316406, -4.861299991607666, -4.164899826049805, -4.975200176239014, -3.6298000812530518, -4.786200046539307, -3.2569000720977783, -3.3041999340057373, -3.344399929046631, -3.8125, -3.8951001167297363, -4.094299793243408, -4.208799839019775, -4.217800140380859, -4.41480016708374, -4.491600036621094, -4.634699821472168, -4.674699783325195, -4.730000019073486, -4.78849983215332, -4.792799949645996, -4.799200057983398, -4.8302998542785645, -4.962800025939941, -4.970600128173828, -5.15369987487793, -5.169000148773193, -5.190700054168701, -5.309800148010254, -5.410799980163574, -5.4369001388549805, -5.4670000076293945, -5.51800012588501, -5.5183000564575195, -5.528299808502197, -5.173900127410889, -3.661900043487549, -4.920499801635742, -4.174600124359131, -5.005899906158447, -2.7806999683380127, -3.3450000286102295, -3.432499885559082, -3.596299886703491, -3.614000082015991, -3.6530001163482666, -3.897700071334839, -3.9951999187469482, -4.189000129699707, -4.498300075531006, -4.543700218200684, -4.753600120544434, -4.753699779510498, -4.826700210571289, -4.91540002822876, -4.992000102996826, -5.067800045013428, -5.105299949645996, -5.174799919128418, -5.218200206756592, -5.255799770355225, -5.266499996185303, -5.377500057220459, -5.46619987487793, -5.500999927520752, -5.524600028991699, -5.526700019836426, -5.601600170135498, -5.643599987030029, -5.71589994430542, -5.11959981918335, -4.610899925231934, -5.239200115203857, -5.506800174713135]}, \"token.table\": {\"Topic\": [2, 8, 7, 7, 8, 10, 1, 10, 5, 2, 10, 9, 2, 7, 9, 6, 4, 8, 6, 8, 4, 8, 6, 7, 1, 6, 4, 8, 1, 1, 3, 7, 7, 7, 3, 10, 4, 6, 7, 2, 4, 6, 8, 9, 9, 4, 7, 6, 9, 5, 4, 8, 8, 3, 7, 8, 5, 8, 4, 8, 6, 4, 8, 9, 4, 5, 4, 4, 3, 10, 4, 4, 8, 6, 8, 10, 2, 3, 5, 8, 9, 2, 5, 9, 7, 5, 7, 2, 4, 6, 8, 10, 6, 1, 9, 7, 2, 10, 4, 3, 7, 1, 1, 4, 9, 2, 3, 3, 3, 9, 9, 5, 3, 4, 3, 1, 1, 1, 8, 9, 8, 10, 1, 8, 5, 3, 6, 10, 7, 3, 6, 7, 2, 10, 10, 2, 9, 5, 1, 7, 9, 9, 9, 1, 5, 5, 10, 3, 4, 8, 9, 8, 10, 5, 4, 5, 1, 10, 4, 6, 4, 3, 5, 9, 2, 6, 3, 10, 5, 7, 1, 2, 2, 4, 9, 4, 7, 10, 4, 1, 8, 7, 3, 10, 2, 4, 8, 8, 4, 4, 7, 2, 9, 8, 4, 10, 10, 1, 1, 3, 2, 1, 3, 3, 6, 2, 7, 7, 1, 3, 2, 3, 10, 4, 7, 6, 3, 4, 6, 1, 2, 2, 5, 5, 2, 6, 8, 8, 4, 9, 1, 6, 5, 8, 9, 9, 2, 8, 7, 3, 10, 5, 3, 6, 3, 5, 5, 1, 3, 9, 7, 3, 3, 7, 5, 1, 3, 6, 8, 6, 3, 3, 2, 3, 6, 10, 3, 1, 7, 10, 1, 2, 10, 9, 5, 8, 5, 4, 2, 10, 2, 2, 7, 2, 9, 7, 8, 1, 3, 5, 4, 10, 4, 6, 7, 8, 4, 1, 5, 6, 6, 1, 10, 3, 5, 5, 6, 2, 5, 5, 7, 8, 4, 10, 9, 7, 7, 10, 6, 7, 10, 1, 1, 9, 7, 5, 3, 6, 8, 6, 8, 2, 9, 9, 2, 7, 2, 3, 7, 10, 1, 7, 6, 4, 3, 9, 5, 1, 3, 5, 3, 2, 1, 3, 9, 6, 2, 7, 1, 2, 8, 8, 9, 3, 2, 3, 1, 4, 2, 1, 6, 5, 5, 6, 10, 8, 6, 10, 10, 7, 3, 9, 6, 9, 5, 1, 5, 6, 4, 2, 3, 9, 3, 6, 3, 1, 10, 6, 3, 9, 6, 7, 1, 4, 1, 2, 9, 9, 2, 5, 9, 10, 5, 8, 10, 4, 5], \"Freq\": [0.9343761917671128, 0.9335550312783637, 0.9808415442870975, 0.9565278151504558, 0.9367531904635114, 0.918368021255169, 0.9456645724609024, 0.9853053390682636, 0.9781411730454199, 0.9605472853546518, 0.8838615095291307, 0.9865573428020795, 0.9729340415209297, 0.17078562584894258, 0.8173312094199395, 0.9394402491801614, 0.9859930456378829, 0.972597774686318, 0.9637088484418996, 0.9941204533071056, 0.9905844202737767, 0.990417514036702, 0.9629280443083605, 0.9517301977540277, 0.926482043647783, 0.9333496184600993, 0.7808763456871387, 0.19521908642178468, 0.9982903015274912, 0.4248961661631959, 0.4323017638305283, 0.14255775509614854, 0.9700116678266144, 0.9773962929081367, 0.9867714238974653, 0.925932277916158, 0.6177247811865147, 0.3088623905932574, 0.09265871717797722, 0.1978772994291875, 0.07743024760272554, 0.7140789501140244, 0.3618640829825561, 0.6293288399696628, 0.9690791268410492, 0.9984598766601815, 0.9526396021358672, 0.8932745989966395, 0.9301442257554173, 0.8873311792762597, 0.9567150898110199, 0.9893689822593129, 0.9779203835298038, 0.44056573242451685, 0.5384692285188539, 0.9674872283677206, 0.9209747530541141, 0.9514474369015475, 0.9720507898729842, 0.9655819112341266, 0.8821068940550301, 0.9701404143457864, 0.9298720973795651, 0.9905345404311374, 0.9279288469347954, 0.9651595470772182, 0.9592513402513831, 0.9279288469347954, 0.9728826267111438, 0.8749205888257519, 0.9539757460014264, 0.991082539731228, 0.993385514697348, 0.964961055091679, 0.9867633719370154, 0.9448410220352842, 0.6204272800167268, 0.021754112202550028, 0.2888946100498644, 0.06265184314334409, 0.006091151416714007, 0.5283836880376498, 0.46497764547313186, 0.9828925555329295, 0.9662292967917705, 0.9349642363117923, 0.060599533835023575, 0.9916345959386113, 0.0038902881721285753, 0.993968627978851, 0.0009725720430321438, 0.0009725720430321438, 0.9851313936966712, 0.9684280911103101, 0.9751523868255033, 0.9418461448919503, 0.9667209680357427, 0.9964249438025775, 0.9529126272277486, 0.14636769798454863, 0.8416142634111545, 0.9957980758471103, 0.36852809721791735, 0.6264977652704595, 0.9852186973034162, 0.14958003782267282, 0.8226902080247005, 0.9364742526102282, 0.9876046850991796, 0.9775090816662688, 0.9506608395330188, 0.9616204559602303, 0.9703569896887583, 0.9982260922048883, 0.9820771727935224, 0.9846510719396739, 0.919594812285206, 0.21834208390693108, 0.5926427991759559, 0.18715035763451238, 0.9502445383535857, 0.9573504291401443, 0.9258659746251264, 0.9900697167418367, 0.9606993491871177, 0.9751280363616995, 0.9335559533504433, 0.94030348868065, 0.9736105590896481, 0.8983296963635604, 0.09624961032466718, 0.9435811438076324, 0.8067177983913454, 0.1728680996552883, 0.992516315087201, 0.958751169896057, 0.987891357867695, 0.9048408918652923, 0.996972010512738, 0.991195953742073, 0.9527947044780418, 0.9754906547053827, 0.9636068190614205, 0.9936965432236171, 0.9952879941583564, 0.953796641277685, 0.9895979072303367, 0.9489988359421171, 0.9649444234636481, 0.9655185010643498, 0.975740476883547, 0.9647865160304671, 0.8821436419224429, 0.9982808988015173, 0.7119387558494602, 0.28477550233978405, 0.9755728644541769, 0.9591555239758744, 0.9518781740393906, 0.9394401767147963, 0.9652670771464607, 0.6308380432070899, 0.09345748788253183, 0.25700809167696254, 0.027954029214470814, 0.9504369932920076, 0.9937699804974575, 0.9821565241962782, 0.9952204250811442, 0.9570168310920193, 0.8700751982492404, 0.11601002643323205, 0.9408615344579097, 0.45318287125292395, 0.5438194455035088, 0.9523342818915483, 0.5742298636812473, 0.410164188343748, 0.968750016150402, 0.972184536325734, 0.9821275356105069, 0.9523814700304714, 0.8596640246307803, 0.11722691244965186, 0.9947365625501543, 0.7872662816594261, 0.18744435277605384, 0.9615078170617525, 0.9812241645681976, 0.9849794817552918, 0.9849608472164458, 0.9801938926858828, 0.9437007632868621, 0.9402237086697172, 0.9712993841473527, 0.9447034487745543, 0.9470475767914979, 0.9912815319097062, 0.9912439673973606, 0.9709127899598219, 0.9399732946724472, 0.8064929922695164, 0.1728199269148964, 0.9762442813702819, 0.9699253595610566, 0.9550900105963108, 0.9981046925777457, 0.9685681145695164, 0.9829841812090943, 0.942240877824598, 0.9502400606032404, 0.9841714581565962, 0.9567718323671308, 0.9157787900205471, 0.9602486168915332, 0.9207662964269342, 0.23544806800728255, 0.5297581530163857, 0.23544806800728255, 0.9904025216670523, 0.9434045314275602, 0.9370661783718681, 0.9864777398818533, 0.9737781264876499, 0.9408614614300066, 0.5011391799036452, 0.4987864138008112, 0.934985154080413, 0.9752208241627535, 0.9482994071444111, 0.9648386009904212, 0.9426237278848583, 0.9458231899117028, 0.7949582242589471, 0.1892757676807017, 0.9633582601782339, 0.9672108758470386, 0.943346860391742, 0.9605625353720347, 0.9222702472234676, 0.9837638087294024, 0.9766985079689663, 0.949141511111727, 0.9631942860104705, 0.9941327077915826, 0.9784700443482948, 0.9046259030247035, 0.5832117263639774, 0.3957508143184133, 0.9915530179963618, 0.9516252832951013, 0.969114155674384, 0.9698229700697316, 0.9503365739925358, 0.9963057470979432, 0.21572140328259376, 0.21572140328259376, 0.1688254460472473, 0.39392604077691035, 0.912645973925235, 0.9562724745682414, 0.936691215240738, 0.9653077948383716, 0.9899691971270245, 0.17061239421218555, 0.7961911729901993, 0.9416098126915792, 0.9648387163474638, 0.9696589050274347, 0.9380678709435369, 0.9771272826170996, 0.9199689113412033, 0.039998648319182754, 0.941851569837486, 0.9372302906230816, 0.9879124557637158, 0.966366629867781, 0.9654916044574039, 0.9784485123027485, 0.9628766217355741, 0.9600301223959075, 0.9049046937507532, 0.9635980941875615, 0.9618458301372937, 0.03374897649604539, 0.9511147500242578, 0.9263546010229722, 0.3459162698464562, 0.6226492857236211, 0.9624402846249955, 0.9662345682681781, 0.9284508601298466, 0.378266562153494, 0.5158180393002192, 0.10316360786004383, 0.9712110466181968, 0.9481679858024621, 0.12065437761977359, 0.8790533226583503, 0.9605144169059259, 0.9477178828875494, 0.9818034358668436, 0.9915278650268777, 0.6313397409463876, 0.37306439237741085, 0.9935067511949269, 0.9969551203764816, 0.903614609670399, 0.9838103424217397, 0.8981249892647444, 0.9414497953506092, 0.9912845168178738, 0.9257868810171718, 0.9243176946925276, 0.9811528195638586, 0.9971335893227401, 0.269900271654424, 0.7197340577451307, 0.018774547590595353, 0.9762764747109584, 0.9638649434062324, 0.9636607478923694, 0.9593752274653773, 0.9043070800829137, 0.9839411275107056, 0.9776753699198654, 0.27345361354450504, 0.6152706304751363, 0.09115120451483501, 0.8335895434275759, 0.966327960487362, 0.9047033588006272, 0.9791287341989448, 0.9547790996281804, 0.7942433116485438, 0.17266158948881388, 0.9711612491983014, 0.970089580890489, 0.9839655070799052, 0.9150825716985501, 0.9390778727680184, 0.9561430874632235, 0.9780162241310355, 0.9709078304538395, 0.9816866899352319, 0.8953350591929535, 0.9601772976474976, 0.2769899800517503, 0.02308249833764586, 0.6924749501293758, 0.9708071655030837, 0.9399795390226362, 0.9566811324627051, 0.7036788937993045, 0.2592501187681648, 0.8921412538460886, 0.6715230407316742, 0.27980126697153096, 0.9833247881005047, 0.9487510843331836, 0.980129409255442, 0.9433471419773147, 0.9943450712379872, 0.9563439678075604, 0.052374752294737995, 0.9427455413052839, 0.9734838797667797, 0.9176449936107913, 0.9842486658405102, 0.9671930905947742, 0.9676641508968915, 0.9832237682754242, 0.9944983405166534, 0.9904814202984302, 0.9500488351732616, 0.982139072800431, 0.947718401628726, 0.9589689716000759, 0.934719492694625, 0.9363065489131276, 0.9909467320534948, 0.9435948828417985, 0.8678113222332814, 0.957587921425188, 0.9293589014397391, 0.9077546037390686, 0.06051697358260458, 0.9047281493648638, 0.970111358821779, 0.9108191204929031, 0.12937646898284205, 0.8193843035579997, 0.9665107089953529, 0.9611517097209371, 0.9364296609820144, 0.9719309021642284, 0.9821361410399468, 0.9106766853122695, 0.9687169588149804, 0.9909514256454389, 0.7533024072751463, 0.2511008024250488, 0.549813573273772, 0.43526907884173616, 0.9803353161641891, 0.976555881722962, 0.9627271456786848, 0.9897731654441795, 0.6749448454816456, 0.32258393350225706, 0.0016542765820628568, 0.9839524146861375, 0.302630192899538, 0.129698654099802, 0.562027501099142, 0.4864496970004584, 0.5021416227101506], \"Term\": [\"1\", \"10\", \"2016\", \"A\", \"America\", \"Americans\", \"Apple\", \"Are\", \"Artificial\", \"Bad\", \"Base\", \"Bollywood\", \"Breaking\", \"Can\", \"Can\", \"China\", \"Clinton\", \"Cold\", \"Did\", \"Do\", \"Does\", \"Donald\", \"Facebook\", \"GATE\", \"Game\", \"Germans\", \"Hillary\", \"Hillary\", \"How\", \"I\", \"I\", \"I\", \"IIT\", \"If\", \"Im\", \"Impossible\", \"In\", \"In\", \"In\", \"India\", \"India\", \"India\", \"Indian\", \"Indian\", \"Indians\", \"Is\", \"JEE\", \"Jews\", \"Khan\", \"Mains\", \"Manaphy\", \"Modi\", \"Muslims\", \"My\", \"My\", \"Narendra\", \"Neural\", \"Obama\", \"Olympics\", \"PM\", \"PinscherChihuahua\", \"Pokemon\", \"President\", \"Quora\", \"Ranger\", \"Rank\", \"Rio\", \"Sea\", \"Should\", \"Star\", \"Temple\", \"The\", \"Trump\", \"US\", \"War\", \"Was\", \"What\", \"What\", \"What\", \"What\", \"What\", \"Whats\", \"Whats\", \"When\", \"Where\", \"Which\", \"Which\", \"Who\", \"Why\", \"Why\", \"Why\", \"Why\", \"Would\", \"acid\", \"actor\", \"actually\", \"advice\", \"afraid\", \"air\", \"always\", \"always\", \"anger\", \"annoying\", \"annoying\", \"answer\", \"anyone\", \"anyone\", \"app\", \"artificial\", \"ask\", \"asked\", \"avoid\", \"awkward\", \"bad\", \"badly\", \"base\", \"be\", \"become\", \"become\", \"become\", \"becomes\", \"believe\", \"body\", \"boring\", \"boy\", \"boyfriend\", \"brutal\", \"buy\", \"call\", \"cant\", \"cant\", \"car\", \"casual\", \"casual\", \"cat\", \"cause\", \"chicken\", \"class\", \"cold\", \"college\", \"company\", \"computer\", \"considered\", \"control\", \"could\", \"country\", \"crazy\", \"crime\", \"crude\", \"cruel\", \"customer\", \"cutting\", \"dad\", \"dangerous\", \"day\", \"day\", \"deal\", \"death\", \"design\", \"desperate\", \"die\", \"difference\", \"difference\", \"difference\", \"dirty\", \"dirty\", \"do\", \"dog\", \"done\", \"dream\", \"drink\", \"drink\", \"drinking\", \"eat\", \"eat\", \"eating\", \"effect\", \"effect\", \"egg\", \"emotion\", \"end\", \"engineering\", \"even\", \"even\", \"ever\", \"every\", \"every\", \"everyone\", \"evil\", \"example\", \"expect\", \"experience\", \"face\", \"fact\", \"failing\", \"fake\", \"fastest\", \"feel\", \"feeling\", \"find\", \"food\", \"friend\", \"friend\", \"frustrated\", \"fucked\", \"game\", \"get\", \"getting\", \"girl\", \"girlfriend\", \"given\", \"go\", \"god\", \"gone\", \"got\", \"government\", \"guy\", \"guy\", \"guy\", \"habit\", \"had\", \"hair\", \"happen\", \"happened\", \"happens\", \"hate\", \"hate\", \"hated\", \"health\", \"heard\", \"help\", \"him\", \"hisher\", \"history\", \"history\", \"horrible\", \"hotel\", \"human\", \"idea\", \"idiot\", \"impossible\", \"improve\", \"increase\", \"insane\", \"intelligence\", \"intersection\", \"issue\", \"it\", \"it\", \"job\", \"kid\", \"know\", \"learning\", \"leave\", \"life\", \"like\", \"like\", \"like\", \"like\", \"look\", \"lose\", \"mad\", \"made\", \"make\", \"making\", \"making\", \"man\", \"manage\", \"mark\", \"math\", \"me\", \"mean\", \"mean\", \"medium\", \"memory\", \"men\", \"met\", \"milk\", \"mistake\", \"mix\", \"moment\", \"money\", \"month\", \"movie\", \"movie\", \"much\", \"myself\", \"need\", \"need\", \"never\", \"nicotine\", \"nose\", \"not\", \"not\", \"not\", \"now\", \"oil\", \"one\", \"one\", \"others\", \"out\", \"overcome\", \"painful\", \"parent\", \"parent\", \"particularly\", \"people\", \"performing\", \"person\", \"police\", \"porn\", \"president\", \"product\", \"puppy\", \"question\", \"rank\", \"real\", \"real\", \"really\", \"really\", \"reason\", \"reduce\", \"relationship\", \"religion\", \"rid\", \"said\", \"say\", \"say\", \"say\", \"saying\", \"school\", \"season\", \"seen\", \"service\", \"sex\", \"sex\", \"shower\", \"shy\", \"sick\", \"side\", \"situation\", \"sleep\", \"smell\", \"smoking\", \"socially\", \"software\", \"solution\", \"someone\", \"someone\", \"someone\", \"something\", \"song\", \"sore\", \"start\", \"start\", \"started\", \"still\", \"still\", \"stop\", \"story\", \"student\", \"study\", \"stupid\", \"system\", \"take\", \"take\", \"talk\", \"taste\", \"teacher\", \"tell\", \"terrible\", \"them\", \"thing\", \"think\", \"this\", \"time\", \"tragic\", \"treated\", \"truth\", \"u\", \"ugly\", \"unhappy\", \"unpleasant\", \"up\", \"use\", \"used\", \"used\", \"using\", \"vaping\", \"video\", \"violent\", \"violent\", \"want\", \"war\", \"watch\", \"water\", \"way\", \"wear\", \"weight\", \"why\", \"wife\", \"wife\", \"without\", \"without\", \"woman\", \"work\", \"working\", \"world\", \"worst\", \"worst\", \"worst\", \"would\", \"year\", \"year\", \"year\", \"you\", \"you\"]}, \"R\": 30, \"lambda.step\": 0.01, \"plot.opts\": {\"xlab\": \"PC1\", \"ylab\": \"PC2\"}, \"topic.order\": [6, 9, 3, 1, 8, 10, 2, 7, 4, 5]};\n",
       "\n",
       "function LDAvis_load_lib(url, callback){\n",
       "  var s = document.createElement('script');\n",
       "  s.src = url;\n",
       "  s.async = true;\n",
       "  s.onreadystatechange = s.onload = callback;\n",
       "  s.onerror = function(){console.warn(\"failed to load library \" + url);};\n",
       "  document.getElementsByTagName(\"head\")[0].appendChild(s);\n",
       "}\n",
       "\n",
       "if(typeof(LDAvis) !== \"undefined\"){\n",
       "   // already loaded: just create the visualization\n",
       "   !function(LDAvis){\n",
       "       new LDAvis(\"#\" + \"ldavis_el59581145040971286583321058\", ldavis_el59581145040971286583321058_data);\n",
       "   }(LDAvis);\n",
       "}else if(typeof define === \"function\" && define.amd){\n",
       "   // require.js is available: use it to load d3/LDAvis\n",
       "   require.config({paths: {d3: \"https://cdnjs.cloudflare.com/ajax/libs/d3/3.5.5/d3.min\"}});\n",
       "   require([\"d3\"], function(d3){\n",
       "      window.d3 = d3;\n",
       "      LDAvis_load_lib(\"https://cdn.rawgit.com/bmabey/pyLDAvis/files/ldavis.v1.0.0.js\", function(){\n",
       "        new LDAvis(\"#\" + \"ldavis_el59581145040971286583321058\", ldavis_el59581145040971286583321058_data);\n",
       "      });\n",
       "    });\n",
       "}else{\n",
       "    // require.js not available: dynamically load d3 & LDAvis\n",
       "    LDAvis_load_lib(\"https://cdnjs.cloudflare.com/ajax/libs/d3/3.5.5/d3.min.js\", function(){\n",
       "         LDAvis_load_lib(\"https://cdn.rawgit.com/bmabey/pyLDAvis/files/ldavis.v1.0.0.js\", function(){\n",
       "                 new LDAvis(\"#\" + \"ldavis_el59581145040971286583321058\", ldavis_el59581145040971286583321058_data);\n",
       "            })\n",
       "         });\n",
       "}\n",
       "</script>"
      ],
      "text/plain": [
       "<IPython.core.display.HTML object>"
      ]
     },
     "execution_count": 30,
     "metadata": {},
     "output_type": "execute_result"
    }
   ],
   "source": [
    "import warnings\n",
    "warnings.filterwarnings('ignore')\n",
    "\n",
    "ldamodel.save('topic.model')\n",
    "import os \n",
    "%matplotlib inline\n",
    "import pyLDAvis.gensim\n",
    "import gensim\n",
    "pyLDAvis.enable_notebook()\n",
    "\n",
    "d = gensim.corpora.Dictionary.load('dictionary.dict')\n",
    "c = gensim.corpora.MmCorpus('corpus.mm')\n",
    "lda = gensim.models.LdaModel.load('topic.model')\n",
    "\n",
    "pd.options.display.max_colwidth = 5000\n",
    "data = pyLDAvis.gensim.prepare(lda, c, d, mds='tsne')\n",
    "pyLDAvis.display(data)\n",
    "\n"
   ]
  },
  {
   "cell_type": "markdown",
   "metadata": {
    "collapsed": true
   },
   "source": [
    "# Conclusion "
   ]
  },
  {
   "cell_type": "markdown",
   "metadata": {},
   "source": [
    "It was interesting to create an LDA based Topic Model for questions on Quora based on two categories, one that includes the entire dataset\n",
    "and the other being only the highly negatively sentimented questions. Our findings were that there were some types of questions that were similar between the overall dataset and the negative sentiment dataset (as expected as one is a subset of the other) as well as some topics that were different.\n",
    "\n",
    "The similar topics between the two were:\n",
    "\n",
    "-Presidential elections in the United States\n",
    "\n",
    "-Country/culture, especially related to India\n",
    "\n",
    "-Relationships (of all kinds, romantic or otherwise)\n",
    "\n",
    "The differences between the entire dataset and the negatively sentimented one seemed to be:\n",
    "\n",
    "In the entire dataset (hence the focus is on things missing from negative dataset):\n",
    "\n",
    "-College/Education\n",
    "\n",
    "-Making Money\n",
    "\n",
    "-New starts such as new home, first child, etc\n",
    "\n",
    "Whereas in the negative dataset there was focus on:\n",
    "\n",
    "-Evil, horrible things happening \n",
    "\n",
    "-Anger Management\n",
    "\n",
    "-Annoying/Ugly things\n",
    "\n",
    "\n",
    "I think the analysis overall did a good job of analyzing sentiment and topics in the dataset. There is potential opportunity for further analysis by trying another model, particularly, Non-Negative Matrix Factorization and attempting to fine-tune the parameters in LDA.\n"
   ]
  }
 ],
 "metadata": {
  "kernelspec": {
   "display_name": "Python 3",
   "language": "python",
   "name": "python3"
  },
  "language_info": {
   "codemirror_mode": {
    "name": "ipython",
    "version": 3
   },
   "file_extension": ".py",
   "mimetype": "text/x-python",
   "name": "python",
   "nbconvert_exporter": "python",
   "pygments_lexer": "ipython3",
   "version": "3.6.3"
  }
 },
 "nbformat": 4,
 "nbformat_minor": 2
}
